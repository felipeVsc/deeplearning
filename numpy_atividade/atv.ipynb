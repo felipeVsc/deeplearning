{
 "cells": [
  {
   "attachments": {},
   "cell_type": "markdown",
   "metadata": {},
   "source": [
    "# NumPy Array\n",
    "\n",
    "* How to create an empty and a full NumPy array?\n",
    "* Create a Numpy array filled with all zeros\n",
    "* Create a Numpy array filled with all ones\n",
    "* Check whether a Numpy array contains a specified row\n",
    "* How to Remove rows in Numpy array that contains non-numeric values?\n",
    "* Remove single-dimensional entries from the shape of an array\n",
    "* Find the number of occurrences of a sequence in a NumPy array\n",
    "* Find the most frequent value in a NumPy array\n",
    "* Combining a one and a two-dimensional NumPy Array\n",
    "* How to build an array of all combinations of two NumPy arrays?\n",
    "* How to add a border around a NumPy array?\n",
    "* How to compare two NumPy arrays?\n",
    "* How to check whether specified values are present in NumPy array?\n",
    "* How to get all 2D diagonals of a 3D NumPy array?\n",
    "* Flatten a Matrix in Python using NumPy\n",
    "* Flatten a 2d numpy array into 1d array\n",
    "* Move axes of an array to new positions\n",
    "* Interchange two axes of an array\n",
    "* NumPy – Fibonacci Series using Binet Formula\n",
    "* Counts the number of non-zero values in the array\n",
    "* Count the number of elements along a given axis\n",
    "* Trim the leading and/or trailing zeros from a 1-D array\n",
    "* Change data type of given numpy array\n",
    "* Reverse a numpy array\n",
    "* How to make a NumPy array read-only?"
   ]
  },
  {
   "cell_type": "code",
   "execution_count": 86,
   "metadata": {},
   "outputs": [
    {
     "name": "stdout",
     "output_type": "stream",
     "text": [
      "[ 1.   2.   2.5  5.  10. ]\n",
      "[666 666 666 666 666]\n"
     ]
    }
   ],
   "source": [
    "# How to create an empty and a full NumPy array?\n",
    "\n",
    "import numpy as np\n",
    "\n",
    "empty_array = np.empty(5)\n",
    "print(empty_array)\n",
    "\n",
    "full_array = np.full(5, 666)\n",
    "print(full_array)"
   ]
  },
  {
   "cell_type": "code",
   "execution_count": 88,
   "metadata": {},
   "outputs": [
    {
     "name": "stdout",
     "output_type": "stream",
     "text": [
      "[0. 0. 0. 0. 0.]\n"
     ]
    }
   ],
   "source": [
    "# Create a NumPy array filled with all zeros\n",
    "\n",
    "import numpy as np\n",
    "\n",
    "zeros_array = np.zeros(5)\n",
    "print(zeros_array)\n",
    "\n"
   ]
  },
  {
   "cell_type": "code",
   "execution_count": 87,
   "metadata": {},
   "outputs": [
    {
     "name": "stdout",
     "output_type": "stream",
     "text": [
      "[1. 1. 1. 1. 1.]\n"
     ]
    }
   ],
   "source": [
    "# Create a NumPy array filled with all ones\n",
    "\n",
    "import numpy as np\n",
    "\n",
    "ones_array = np.ones(5)\n",
    "print(ones_array)"
   ]
  },
  {
   "cell_type": "code",
   "execution_count": 89,
   "metadata": {},
   "outputs": [
    {
     "name": "stdout",
     "output_type": "stream",
     "text": [
      "True\n"
     ]
    }
   ],
   "source": [
    "# Check whether a NumPy array contains a specified row\n",
    "\n",
    "import numpy as np\n",
    "\n",
    "random_array = np.array([[3, 2, 1], [4, 5, 6], [1, 2, 3]])\n",
    "spec_row = np.array([4, 5, 6])\n",
    "result = np.any(np.all(random_array == spec_row, axis=1))\n",
    "print(result)"
   ]
  },
  {
   "cell_type": "code",
   "execution_count": 91,
   "metadata": {},
   "outputs": [
    {
     "name": "stdout",
     "output_type": "stream",
     "text": [
      "[[ 3.  2.  1.]\n",
      " [10. 11. 23.]]\n"
     ]
    }
   ],
   "source": [
    "# How to Remove rows in a NumPy array that contain non-numeric values?\n",
    "\n",
    "import numpy as np\n",
    "\n",
    "random_array = np.array([[3, 2, 1], [10,11,23], [1, np.nan, 3]])\n",
    "nonnumeric = random_array[~np.isnan(random_array).any(axis=1)]\n",
    "print(nonnumeric)\n"
   ]
  },
  {
   "cell_type": "code",
   "execution_count": 92,
   "metadata": {},
   "outputs": [
    {
     "name": "stdout",
     "output_type": "stream",
     "text": [
      "(3, 3)\n"
     ]
    }
   ],
   "source": [
    "# Remove single-dimensional entries from the shape of an array\n",
    "\n",
    "import numpy as np\n",
    "\n",
    "random_array = np.array([[3, 2, 1], [10,11,23], [1, 32, 3]])\n",
    "shape = np.squeeze(random_array)\n",
    "print(shape.shape)\n",
    "\n"
   ]
  },
  {
   "cell_type": "code",
   "execution_count": 94,
   "metadata": {},
   "outputs": [],
   "source": [
    "#. Find the number of occurrences of a sequence in a NumPy array\n",
    "\n"
   ]
  },
  {
   "cell_type": "code",
   "execution_count": 95,
   "metadata": {},
   "outputs": [
    {
     "name": "stdout",
     "output_type": "stream",
     "text": [
      "9\n"
     ]
    }
   ],
   "source": [
    "# Find the most frequent value in a NumPy array\n",
    "\n",
    "import numpy as np\n",
    "\n",
    "random_array = np.array([1,1,1,6,6,6,9,9,9,9,9,9,9])\n",
    "most = np.bincount(random_array).argmax()\n",
    "print(most)\n"
   ]
  },
  {
   "cell_type": "code",
   "execution_count": 96,
   "metadata": {},
   "outputs": [
    {
     "name": "stdout",
     "output_type": "stream",
     "text": [
      "[[1 2 3]\n",
      " [4 5 6]\n",
      " [7 8 9]]\n"
     ]
    }
   ],
   "source": [
    "# Combining a one and a two-dimensional NumPy Array\n",
    "\n",
    "import numpy as np\n",
    "\n",
    "random_array = np.array([1, 2, 3])\n",
    "random_array2 = np.array([[4, 5, 6], [7, 8, 9]])\n",
    "comb = np.vstack((random_array, random_array2))\n",
    "print(comb)"
   ]
  },
  {
   "cell_type": "code",
   "execution_count": 98,
   "metadata": {},
   "outputs": [
    {
     "name": "stdout",
     "output_type": "stream",
     "text": [
      "[[1 4]\n",
      " [2 4]\n",
      " [3 4]\n",
      " [1 5]\n",
      " [2 5]\n",
      " [3 5]\n",
      " [1 6]\n",
      " [2 6]\n",
      " [3 6]]\n"
     ]
    }
   ],
   "source": [
    "# How to build an array of all combinations of two NumPy arrays?\n",
    "\n",
    "import numpy as np\n",
    "\n",
    "random_array = np.array([1, 2, 3])\n",
    "random_array2 = np.array([4, 5, 6])\n",
    "combinations = np.transpose([np.tile(random_array, len(random_array2)), np.repeat(random_array2, len(random_array))])\n",
    "print(combinations)"
   ]
  },
  {
   "cell_type": "code",
   "execution_count": 99,
   "metadata": {},
   "outputs": [
    {
     "name": "stdout",
     "output_type": "stream",
     "text": [
      "[[0. 0. 0. 0. 0.]\n",
      " [0. 1. 1. 1. 0.]\n",
      " [0. 1. 1. 1. 0.]\n",
      " [0. 1. 1. 1. 0.]\n",
      " [0. 0. 0. 0. 0.]]\n"
     ]
    }
   ],
   "source": [
    "# How to add a border around a NumPy array?\n",
    "\n",
    "import numpy as np\n",
    "\n",
    "random_array = np.ones((3, 3))\n",
    "border = np.pad(random_array, pad_width=1, mode='constant', constant_values=0)\n",
    "print(border)\n"
   ]
  },
  {
   "cell_type": "code",
   "execution_count": 101,
   "metadata": {},
   "outputs": [
    {
     "name": "stdout",
     "output_type": "stream",
     "text": [
      "False\n"
     ]
    }
   ],
   "source": [
    "# How to compare two NumPy arrays?\n",
    "\n",
    "import numpy as np\n",
    "\n",
    "random_array = np.array([1, 2, 3])\n",
    "random_array2 = np.array([4, 5, 6])\n",
    "comparison = np.array_equal(random_array, random_array2)\n",
    "print(comparison)\n"
   ]
  },
  {
   "cell_type": "code",
   "execution_count": 102,
   "metadata": {},
   "outputs": [
    {
     "name": "stdout",
     "output_type": "stream",
     "text": [
      "[ True False  True False  True]\n"
     ]
    }
   ],
   "source": [
    "# How to check whether specified values are present in a NumPy array?\n",
    "\n",
    "import numpy as np\n",
    "\n",
    "random_array = np.array([6,9,2,4,6])\n",
    "spec = [2, 6]\n",
    "present_values = np.isin(random_array, spec)\n",
    "print(present_values)\n"
   ]
  },
  {
   "cell_type": "code",
   "execution_count": 107,
   "metadata": {},
   "outputs": [
    {
     "name": "stdout",
     "output_type": "stream",
     "text": [
      "[[ 1  5]\n",
      " [ 7 11]]\n"
     ]
    }
   ],
   "source": [
    "# How to get all 2D diagonals of a 3D NumPy array?\n",
    "\n",
    "import numpy as np\n",
    "\n",
    "random_array = np.array([[[[1, 2, 3], [4, 5, 6]], [[7, 8, 9], [10, 11, 12]]]])\n",
    "diagonals = np.diagonal(array, axis1=1, axis2=2)\n",
    "print(diagonals)\n"
   ]
  },
  {
   "cell_type": "code",
   "execution_count": 109,
   "metadata": {},
   "outputs": [
    {
     "name": "stdout",
     "output_type": "stream",
     "text": [
      "[1 2 3 4 5 6]\n"
     ]
    }
   ],
   "source": [
    "# Flatten a Matrix in Python using NumPy\n",
    "\n",
    "import numpy as np\n",
    "\n",
    "matrix = np.array([[1, 2, 3], [4, 5, 6]])\n",
    "flattened_array = matrix.flatten()\n",
    "print(flattened_array)"
   ]
  },
  {
   "cell_type": "code",
   "execution_count": 108,
   "metadata": {},
   "outputs": [
    {
     "name": "stdout",
     "output_type": "stream",
     "text": [
      "[ 6  9  7 69 24 19]\n"
     ]
    }
   ],
   "source": [
    "# Flatten a 2D NumPy array into a 1D array\n",
    "\n",
    "import numpy as np\n",
    "\n",
    "random_array = np.array([[6,9,7], [69,24,19]])\n",
    "flat = random_array.ravel()\n",
    "print(flat)"
   ]
  },
  {
   "cell_type": "code",
   "execution_count": 110,
   "metadata": {},
   "outputs": [
    {
     "name": "stdout",
     "output_type": "stream",
     "text": [
      "(4, 5, 3)\n"
     ]
    }
   ],
   "source": [
    "# Move axes of an array to new positions\n",
    "\n",
    "import numpy as np\n",
    "\n",
    "random_array = np.ones((3, 4, 5))\n",
    "new_random_array = np.moveaxis(random_array, 0, -1)\n",
    "print(new_random_array.shape)\n"
   ]
  },
  {
   "cell_type": "code",
   "execution_count": 111,
   "metadata": {},
   "outputs": [
    {
     "name": "stdout",
     "output_type": "stream",
     "text": [
      "(3, 5, 4)\n"
     ]
    }
   ],
   "source": [
    "# Interchange two axes of an array\n",
    "\n",
    "\n",
    "import numpy as np\n",
    "\n",
    "random_array = np.ones((3, 4, 5))\n",
    "swap = np.swapaxes(random_array, 1, 2)\n",
    "print(swap.shape)\n"
   ]
  },
  {
   "cell_type": "code",
   "execution_count": 112,
   "metadata": {},
   "outputs": [],
   "source": [
    "# NumPy – Fibonacci Series using Binet Formula\n",
    "\n"
   ]
  },
  {
   "cell_type": "code",
   "execution_count": 117,
   "metadata": {},
   "outputs": [
    {
     "name": "stdout",
     "output_type": "stream",
     "text": [
      "4\n"
     ]
    }
   ],
   "source": [
    "# Counts the number of non-zero values in the array\n",
    "\n",
    "import numpy as np\n",
    "\n",
    "random_array = np.array([[69, 0, 0], [9, 5, 2]])\n",
    "count = np.count_nonzero(random_array)\n",
    "print(count)"
   ]
  },
  {
   "cell_type": "code",
   "execution_count": 118,
   "metadata": {},
   "outputs": [
    {
     "name": "stdout",
     "output_type": "stream",
     "text": [
      "2\n",
      "3\n"
     ]
    }
   ],
   "source": [
    "# Count the number of elements along a given axis\n",
    "\n",
    "import numpy as np\n",
    "\n",
    "random_array = np.array([[1, 2, 3], [4, 5, 6]])\n",
    "axis0 = np.size(random_array, axis=0)\n",
    "axis1 = np.size(random_array, axis=1)\n",
    "print(axis0)\n",
    "print(axis1)\n",
    "\n"
   ]
  },
  {
   "cell_type": "code",
   "execution_count": 120,
   "metadata": {},
   "outputs": [
    {
     "name": "stdout",
     "output_type": "stream",
     "text": [
      "[6 6 6 9 9 0 0 2 3 4]\n"
     ]
    }
   ],
   "source": [
    "# Trim the leading and/or trailing zeros from a 1-D array\n",
    "\n",
    "import numpy as np\n",
    "\n",
    "random_array = np.array([0,0,6,6,6,9,9,0,0,2,3,4,0])\n",
    "trim = np.trim_zeros(random_array)\n",
    "print(trim)\n"
   ]
  },
  {
   "cell_type": "code",
   "execution_count": 121,
   "metadata": {},
   "outputs": [
    {
     "name": "stdout",
     "output_type": "stream",
     "text": [
      "float64\n"
     ]
    }
   ],
   "source": [
    "# Change the data type of a given NumPy array\n",
    "\n",
    "import numpy as np\n",
    "\n",
    "random_array = np.array([1, 2, 3], dtype=np.int32)\n",
    "new_type = random_array.astype(np.float64)\n",
    "print(new_type.dtype)\n"
   ]
  },
  {
   "cell_type": "code",
   "execution_count": 123,
   "metadata": {},
   "outputs": [
    {
     "name": "stdout",
     "output_type": "stream",
     "text": [
      "[5 4 3 2 1]\n"
     ]
    }
   ],
   "source": [
    "# Reverse a NumPy array\n",
    "\n",
    "import numpy as np\n",
    "\n",
    "random_array = np.array([1, 2, 3, 4, 5])\n",
    "reverse = np.flip(random_array)\n",
    "print(reverse)"
   ]
  },
  {
   "cell_type": "code",
   "execution_count": 122,
   "metadata": {},
   "outputs": [],
   "source": [
    "# How to make a NumPy array read-only?\n",
    "\n",
    "import numpy as np\n",
    "\n",
    "random_array = np.array([6,9,43,2,3])\n",
    "random_array.flags.writeable = False"
   ]
  },
  {
   "attachments": {},
   "cell_type": "markdown",
   "metadata": {},
   "source": [
    "# Questions on NumPy Mathematics\n",
    "\n",
    "* How to get element-wise true division of an array using Numpy?\n",
    "* How to calculate the element-wise absolute value of NumPy array?\n",
    "* Compute the negative of the NumPy array\n",
    "* Multiply 2d numpy array corresponding to 1d array\n",
    "* Computes the inner product of two arrays\n",
    "* Compute the nth percentile of the NumPy array\n",
    "* Calculate the n-th order discrete difference along the given axis\n",
    "* Calculate the sum of all columns in a 2D NumPy array\n",
    "* Calculate average values of two given NumPy arrays\n",
    "* How to compute numerical negative value for all elements in a given NumPy array?\n",
    "* How to get the floor, ceiling and truncated values of the elements of a numpy array?\n",
    "* How to round elements of the NumPy array to the nearest integer?\n",
    "* Find the round off the values of the given matrix\n",
    "* Determine the positive square-root of an array\n",
    "* Evaluate Einstein’s summation convention of two multidimensional NumPy arrays"
   ]
  },
  {
   "cell_type": "code",
   "execution_count": 62,
   "metadata": {},
   "outputs": [
    {
     "name": "stdout",
     "output_type": "stream",
     "text": [
      "[3.         1.2        3.         1.4        0.66666667]\n"
     ]
    }
   ],
   "source": [
    "# How to get element-wise true division of an array using Numpy?\n",
    "\n",
    "import numpy as np\n",
    "\n",
    "rng = np.random\n",
    "random_array = rng.randint(1,10,5)\n",
    "random_array2 = rng.randint(1,10,5)\n",
    "\n",
    "divide = np.true_divide(random_array, random_array2)\n",
    "\n",
    "print(divide)\n",
    "\n"
   ]
  },
  {
   "cell_type": "code",
   "execution_count": 66,
   "metadata": {},
   "outputs": [
    {
     "name": "stdout",
     "output_type": "stream",
     "text": [
      "[ -5  -6  -8  -2 -10]\n",
      "[ 5  6  8  2 10]\n"
     ]
    }
   ],
   "source": [
    "# How to calculate the element-wise absolute value of NumPy array?\n",
    "\n",
    "import numpy as np\n",
    "\n",
    "rng = np.random\n",
    "random_array = rng.randint(-10,-1,5)\n",
    "print(random_array)\n",
    "absolute_value = np.absolute(random_array)\n",
    "print(absolute_value)"
   ]
  },
  {
   "cell_type": "code",
   "execution_count": 67,
   "metadata": {},
   "outputs": [
    {
     "name": "stdout",
     "output_type": "stream",
     "text": [
      "[5 4 6 8 7]\n",
      "[-5 -4 -6 -8 -7]\n"
     ]
    }
   ],
   "source": [
    "# Compute the negative of the NumPy array\n",
    "\n",
    "import numpy as np\n",
    "\n",
    "rng = np.random\n",
    "random_array = rng.randint(1,10,5)\n",
    "negative_array = -random_array\n",
    "print(random_array)\n",
    "print(negative_array)"
   ]
  },
  {
   "cell_type": "code",
   "execution_count": 72,
   "metadata": {},
   "outputs": [
    {
     "name": "stdout",
     "output_type": "stream",
     "text": [
      "[8 7]\n",
      "[[8 3]\n",
      " [7 1]]\n",
      "\n",
      "[[64 21]\n",
      " [56  7]]\n"
     ]
    }
   ],
   "source": [
    "# Multiply 2d numpy array corresponding to 1d array\n",
    "\n",
    "import numpy as np\n",
    "\n",
    "rng = np.random\n",
    "random_array = rng.randint(1,10,2)\n",
    "random_array2d = rng.randint(1,10,(2,2))\n",
    "print(random_array)\n",
    "print(random_array2d)\n",
    "print()\n",
    "multiply = random_array*random_array2d\n",
    "print(multiply)\n"
   ]
  },
  {
   "cell_type": "code",
   "execution_count": 73,
   "metadata": {},
   "outputs": [
    {
     "name": "stdout",
     "output_type": "stream",
     "text": [
      "[1 2 3 7 4]\n",
      "[1 4 3 3 2]\n",
      "\n",
      "47\n"
     ]
    }
   ],
   "source": [
    "# Computes the inner product of two arrays\n",
    "\n",
    "import numpy as np\n",
    "\n",
    "rng = np.random\n",
    "random_array = rng.randint(1,10,5)\n",
    "random_array2 = rng.randint(1,10,5)\n",
    "print(random_array)\n",
    "print(random_array2)\n",
    "print()\n",
    "\n",
    "\n",
    "inner_prd = np.inner(random_array,random_array2)\n",
    "print(inner_prd)\n"
   ]
  },
  {
   "cell_type": "code",
   "execution_count": 75,
   "metadata": {},
   "outputs": [
    {
     "name": "stdout",
     "output_type": "stream",
     "text": [
      "[5 8 5 3 9]\n",
      "5.0\n"
     ]
    }
   ],
   "source": [
    "# Compute the nth percentile of the NumPy array\n",
    "\n",
    "import numpy as np\n",
    "\n",
    "rng = np.random\n",
    "random_array = rng.randint(1,10,5)\n",
    "print(random_array)\n",
    "\n",
    "nth = np.percentile(random_array,50)\n",
    "print(nth)"
   ]
  },
  {
   "cell_type": "code",
   "execution_count": 76,
   "metadata": {},
   "outputs": [
    {
     "name": "stdout",
     "output_type": "stream",
     "text": [
      "[2 9 8 7 5]\n",
      "[ 7 -1 -1 -2]\n"
     ]
    }
   ],
   "source": [
    "# Calculate the n-th order discrete difference along the given axis\n",
    "\n",
    "import numpy as np\n",
    "\n",
    "rng = np.random\n",
    "random_array = rng.randint(1,10,5)\n",
    "print(random_array)\n",
    "\n",
    "nth_diff = np.diff(random_array, n=1, axis=0)\n",
    "\n",
    "print(nth_diff)"
   ]
  },
  {
   "cell_type": "code",
   "execution_count": 77,
   "metadata": {},
   "outputs": [
    {
     "name": "stdout",
     "output_type": "stream",
     "text": [
      "[[4 7 1]\n",
      " [4 7 7]]\n",
      "[ 8 14  8]\n"
     ]
    }
   ],
   "source": [
    "# Calculate the sum of all columns in a 2D NumPy array\n",
    "\n",
    "import numpy as np\n",
    "\n",
    "rng = np.random\n",
    "random_array = rng.randint(1,10,(2,3))\n",
    "print(random_array)\n",
    "\n",
    "sum_all = np.sum(random_array, axis=0)\n",
    "\n",
    "print(sum_all)"
   ]
  },
  {
   "cell_type": "code",
   "execution_count": 78,
   "metadata": {},
   "outputs": [
    {
     "name": "stdout",
     "output_type": "stream",
     "text": [
      "[3 2 7 4 6]\n",
      "[6 3 1 9 7]\n",
      "\n",
      "4.4\n",
      "5.2\n"
     ]
    }
   ],
   "source": [
    "# Calculate average values of two given NumPy arrays\n",
    "import numpy as np\n",
    "rng = np.random\n",
    "random_array = rng.randint(1,10,5)\n",
    "random_array2 = rng.randint(1,10,5)\n",
    "print(random_array)\n",
    "print(random_array2)\n",
    "print()\n",
    "\n",
    "mean_1 = np.mean(random_array)\n",
    "mean_2 = np.mean(random_array2)\n",
    "\n",
    "print(mean_1)\n",
    "print(mean_2)\n",
    "\n"
   ]
  },
  {
   "cell_type": "code",
   "execution_count": 79,
   "metadata": {},
   "outputs": [
    {
     "name": "stdout",
     "output_type": "stream",
     "text": [
      "[5 7 2 2 4]\n",
      "[-5 -7 -2 -2 -4]\n"
     ]
    }
   ],
   "source": [
    "# How to compute numerical negative value for all elements in a given NumPy array?\n",
    "import numpy as np\n",
    "rng = np.random\n",
    "random_array = rng.randint(1,10,5)\n",
    "print(random_array)\n",
    "\n",
    "negative = -random_array\n",
    "\n",
    "print(negative)\n"
   ]
  },
  {
   "cell_type": "code",
   "execution_count": 83,
   "metadata": {},
   "outputs": [
    {
     "name": "stdout",
     "output_type": "stream",
     "text": [
      "[21.8   2.2   4.1   0.25  2.  ]\n",
      "[21.  2.  4.  0.  2.]\n",
      "[22.  3.  5.  1.  2.]\n",
      "[21.  2.  4.  0.  2.]\n"
     ]
    }
   ],
   "source": [
    "# How to get the floor, ceiling and truncated values of the elements of a numpy array?\n",
    "\n",
    "import numpy as np\n",
    "random_array = np.array([21.8,2.2,4.1,0.25,2])\n",
    "print(random_array)\n",
    "\n",
    "floor = np.floor(random_array)\n",
    "print(floor)\n",
    "\n",
    "ceiling = np.ceil(random_array)\n",
    "print(ceiling)\n",
    "\n",
    "truncated = np.trunc(random_array)\n",
    "print(truncated)\n",
    "\n"
   ]
  },
  {
   "cell_type": "code",
   "execution_count": 84,
   "metadata": {},
   "outputs": [
    {
     "name": "stdout",
     "output_type": "stream",
     "text": [
      "[21.8   2.2   4.1   0.25  2.  ]\n",
      "[22.  2.  4.  0.  2.]\n"
     ]
    }
   ],
   "source": [
    "# How to round elements of the NumPy array to the nearest integer?\n",
    "import numpy as np\n",
    "rng = np.random\n",
    "random_array = np.array([21.8,2.2,4.1,0.25,2])\n",
    "print(random_array)\n",
    "\n",
    "rounded = np.round(random_array)\n",
    "print(rounded)\n"
   ]
  },
  {
   "cell_type": "code",
   "execution_count": 87,
   "metadata": {},
   "outputs": [
    {
     "name": "stdout",
     "output_type": "stream",
     "text": [
      "[[5 2 9]\n",
      " [2 7 9]\n",
      " [2 4 1]]\n"
     ]
    }
   ],
   "source": [
    "# Find the round off the values of the given matrix\n",
    "import numpy as np\n",
    "rng = np.random\n",
    "random_array = rng.randint(1,10,(3,3))\n",
    "print(random_array)\n"
   ]
  },
  {
   "cell_type": "code",
   "execution_count": 85,
   "metadata": {},
   "outputs": [
    {
     "name": "stdout",
     "output_type": "stream",
     "text": [
      "[7 4 3 2 1]\n",
      "[2.64575131 2.         1.73205081 1.41421356 1.        ]\n"
     ]
    }
   ],
   "source": [
    "# Determine the positive square-root of an array\n",
    "import numpy as np\n",
    "rng = np.random\n",
    "random_array = rng.randint(1,10,5)\n",
    "print(random_array)\n",
    "\n",
    "pos_sqrt = np.sqrt(random_array)\n",
    "print(pos_sqrt)"
   ]
  },
  {
   "cell_type": "code",
   "execution_count": null,
   "metadata": {},
   "outputs": [],
   "source": [
    "# Evaluate Einstein’s summation convention of two multidimensional NumPy arrays\n",
    "import numpy as np\n",
    "rng = np.random\n",
    "random_array = rng.randint(1,10,(2,2))\n",
    "random_array2 = rng.randint(1,10,(2,2))\n",
    "print(random_array)\n",
    "print(random_array2)\n",
    "\n",
    "einstein = np.einsum('ij, ij ->', random_array, random_array2)\n",
    "print(einstein)\n"
   ]
  },
  {
   "attachments": {},
   "cell_type": "markdown",
   "metadata": {},
   "source": [
    "# Questions on NumPy Sorting and Searching\n",
    "\n",
    "* How to get the indices of the sorted array using NumPy in Python?\n",
    "* Finding the k smallest values of a NumPy array\n",
    "* How to get the n-largest values of an array using NumPy?\n",
    "* Sort the values in a matrix\n",
    "* Filter out integers from float numpy array\n",
    "* Find the indices into a sorted array"
   ]
  },
  {
   "cell_type": "code",
   "execution_count": 68,
   "metadata": {},
   "outputs": [
    {
     "name": "stdout",
     "output_type": "stream",
     "text": [
      "[4 4 4 0 1]\n",
      "[3 4 0 1 2]\n"
     ]
    }
   ],
   "source": [
    "# How to get the indices of the sorted array using NumPy in Python?\n",
    "import numpy as np\n",
    "\n",
    "rng = np.random\n",
    "random_array = rng.randint(0,5,5)\n",
    "sorted_index = np.argsort(random_array)\n",
    "print(random_array)\n",
    "print(sorted_index)"
   ]
  },
  {
   "cell_type": "code",
   "execution_count": 112,
   "metadata": {},
   "outputs": [
    {
     "name": "stdout",
     "output_type": "stream",
     "text": [
      "[1 2 4 3 1]\n",
      "3\n"
     ]
    }
   ],
   "source": [
    "# Finding the k smallest values of a NumPy array\n",
    "\n",
    "import numpy as np\n",
    "\n",
    "rng = np.random\n",
    "random_array = rng.randint(0,5,5)\n",
    "k = 3\n",
    "smallest_values = np.sort(random_array)[k]\n",
    "print(random_array)\n",
    "print(smallest_values)\n",
    "\n"
   ]
  },
  {
   "cell_type": "code",
   "execution_count": null,
   "metadata": {},
   "outputs": [],
   "source": [
    "# How to get the n-largest values of an array using NumPy?"
   ]
  },
  {
   "cell_type": "code",
   "execution_count": 66,
   "metadata": {},
   "outputs": [
    {
     "name": "stdout",
     "output_type": "stream",
     "text": [
      "[[3 4 0]\n",
      " [3 3 3]\n",
      " [3 0 0]]\n"
     ]
    },
    {
     "data": {
      "text/plain": [
       "array([[0, 3, 4],\n",
       "       [3, 3, 3],\n",
       "       [0, 0, 3]])"
      ]
     },
     "execution_count": 66,
     "metadata": {},
     "output_type": "execute_result"
    }
   ],
   "source": [
    "# Sort the values in a matrix\n",
    "\n",
    "\n",
    "import numpy as np\n",
    "\n",
    "rng = np.random\n",
    "random_array = rng.randint(0,5,size=(3,3))\n",
    "print(random_array)\n",
    "\n",
    "np.sort(random_array)"
   ]
  },
  {
   "cell_type": "code",
   "execution_count": 80,
   "metadata": {},
   "outputs": [
    {
     "name": "stdout",
     "output_type": "stream",
     "text": [
      "[ 0.33589674 -1.56514918 -0.48906022  1.23497836  0.09571005]\n",
      "[ 0. -1. -0.  1.  0.]\n"
     ]
    }
   ],
   "source": [
    "#Filter out integers from float numpy array\n",
    "\n",
    "import numpy as np\n",
    "\n",
    "rng = np.random\n",
    "random_array = np.array([ 0.33589674,-1.56514918,-0.48906022,1.23497836, 0.09571005])\n",
    "print(random_array)\n",
    "\n",
    "filtered_array = np.modf(random_array)\n",
    "print(filtered_array[1])\n"
   ]
  },
  {
   "attachments": {},
   "cell_type": "markdown",
   "metadata": {},
   "source": [
    "# Questions on NumPy Matrix\n",
    "\n",
    "* Get the maximum value from given matrix\n",
    "* Get the minimum value from given matrix\n",
    "* Find the number of rows and columns of a given matrix using NumPy\n",
    "* Select the elements from a given matrix\n",
    "* Find the sum of values in a matrix\n",
    "* Calculate the sum of the diagonal elements of a NumPy array\n",
    "* Adding and Subtracting Matrices in Python\n",
    "* Ways to add row/columns in numpy array\n",
    "* Matrix Multiplication in NumPy\n",
    "* Get the eigen values of a matrix\n",
    "* How to Calculate the determinant of a matrix using NumPy?\n",
    "* How to inverse a matrix using NumPy\n",
    "* How to count the frequency of unique values in NumPy array?\n",
    "* Multiply matrices of complex numbers using NumPy in Python\n",
    "* Compute the outer product of two given vectors using NumPy in Python\n",
    "* Calculate inner, outer, and cross products of matrices and vectors using NumPy\n",
    "* Compute the covariance matrix of two given NumPy arrays\n",
    "* Convert covariance matrix to correlation matrix using Python\n",
    "* Compute the Kronecker product of two mulitdimension NumPy arrays\n",
    "* Convert the matrix into a list"
   ]
  },
  {
   "cell_type": "code",
   "execution_count": null,
   "metadata": {},
   "outputs": [],
   "source": [
    "# Get the maximum value from given matrix\n",
    "\n",
    "import numpy as np\n",
    "\n",
    "random_array = np.array([[1, 2, 3], [4, 5, 6], [7, 8, 9]])\n",
    "max_value = np.max(random_array)\n",
    "print(max_value)"
   ]
  },
  {
   "cell_type": "code",
   "execution_count": null,
   "metadata": {},
   "outputs": [],
   "source": [
    "# Get the minimum value from given matrix\n",
    "\n",
    "import numpy as np\n",
    "\n",
    "random_array = np.array([[1, 2, 3], [4, 5, 6], [7, 8, 9]])\n",
    "min_value = np.min(random_array)\n",
    "print(min_value)"
   ]
  },
  {
   "cell_type": "code",
   "execution_count": null,
   "metadata": {},
   "outputs": [],
   "source": [
    "# Find the number of rows and columns of a given matrix using NumPy\n",
    "import numpy as np\n",
    "\n",
    "random_array = np.array([[1, 2, 3], [4, 5, 6], [7, 8, 9]])\n",
    "r, c = random_array.shape\n",
    "print(r, c)"
   ]
  },
  {
   "cell_type": "code",
   "execution_count": 126,
   "metadata": {},
   "outputs": [
    {
     "name": "stdout",
     "output_type": "stream",
     "text": [
      "[[7 8]]\n"
     ]
    }
   ],
   "source": [
    "# Select the elements from a given matrix\n",
    "import numpy as np\n",
    "\n",
    "random_array = np.array([[1, 2, 3], [4, 5, 6], [7, 8, 9]])\n",
    "elem = random_array[2:, :2]\n",
    "print(elem)"
   ]
  },
  {
   "cell_type": "code",
   "execution_count": 129,
   "metadata": {},
   "outputs": [
    {
     "name": "stdout",
     "output_type": "stream",
     "text": [
      "45\n"
     ]
    }
   ],
   "source": [
    "# Find the sum of values in a matrix\n",
    "import numpy as np\n",
    "\n",
    "random_array = np.array([[1, 2, 3], [4, 5, 6], [7, 8, 9]])\n",
    "sum1 = np.sum(random_array)\n",
    "print(sum1)"
   ]
  },
  {
   "cell_type": "code",
   "execution_count": 128,
   "metadata": {},
   "outputs": [
    {
     "name": "stdout",
     "output_type": "stream",
     "text": [
      "15\n"
     ]
    }
   ],
   "source": [
    "# Calculate the sum of the diagonal elements of a NumPy array\n",
    "import numpy as np\n",
    "\n",
    "random_array = np.array([[1, 2, 3], [4, 5, 6], [7, 8, 9]])\n",
    "diag = np.trace(random_array)\n",
    "print(diag)"
   ]
  },
  {
   "cell_type": "code",
   "execution_count": 127,
   "metadata": {},
   "outputs": [
    {
     "name": "stdout",
     "output_type": "stream",
     "text": [
      "[[ 8 10 12]\n",
      " [14 16 18]]\n",
      "[[-6 -6 -6]\n",
      " [-6 -6 -6]]\n"
     ]
    }
   ],
   "source": [
    "# Adding and Subtracting Matrices in Python\n",
    "import numpy as np\n",
    "\n",
    "random_array1 = np.array([[1, 2, 3], [4, 5, 6]])\n",
    "random_array2 = np.array([[7, 8, 9], [10, 11, 12]])\n",
    "add = random_array1 + random_array2\n",
    "sub = random_array1 - random_array2\n",
    "print(add)\n",
    "print(sub)"
   ]
  },
  {
   "cell_type": "code",
   "execution_count": null,
   "metadata": {},
   "outputs": [],
   "source": [
    "# Ways to add row/columns in numpy array\n"
   ]
  },
  {
   "cell_type": "code",
   "execution_count": 130,
   "metadata": {},
   "outputs": [
    {
     "name": "stdout",
     "output_type": "stream",
     "text": [
      "[[19 22]\n",
      " [43 50]]\n"
     ]
    }
   ],
   "source": [
    "# Matrix Multiplication in NumPy\n",
    "\n",
    "import numpy as np\n",
    "\n",
    "random_array1 = np.array([[1, 2], [3, 4]])\n",
    "random_array2 = np.array([[5, 6], [7, 8]])\n",
    "mul = np.dot(random_array1, random_array2)\n",
    "print(mul)"
   ]
  },
  {
   "cell_type": "code",
   "execution_count": 131,
   "metadata": {},
   "outputs": [
    {
     "name": "stdout",
     "output_type": "stream",
     "text": [
      "[-0.37228132  5.37228132]\n"
     ]
    }
   ],
   "source": [
    "# Get the eigen values of a matrix\n",
    "\n",
    "import numpy as np\n",
    "\n",
    "random_array1 = np.array([[1, 2], [3, 4]])\n",
    "eigenvalues = np.linalg.eigvals(random_array1)\n",
    "print(eigenvalues)"
   ]
  },
  {
   "cell_type": "code",
   "execution_count": 132,
   "metadata": {},
   "outputs": [
    {
     "name": "stdout",
     "output_type": "stream",
     "text": [
      "-2.0000000000000004\n"
     ]
    }
   ],
   "source": [
    "# How to Calculate the determinant of a matrix using NumPy?\n",
    "import numpy as np\n",
    "\n",
    "random_array1 = np.array([[1, 2], [3, 4]])\n",
    "determinant = np.linalg.det(random_array1)\n",
    "print(determinant)"
   ]
  },
  {
   "cell_type": "code",
   "execution_count": 133,
   "metadata": {},
   "outputs": [
    {
     "name": "stdout",
     "output_type": "stream",
     "text": [
      "[[-2.   1. ]\n",
      " [ 1.5 -0.5]]\n"
     ]
    }
   ],
   "source": [
    "# How to inverse a matrix using NumPy\n",
    "import numpy as np\n",
    "\n",
    "random_array1 = np.array([[1, 2], [3, 4]])\n",
    "inv = np.linalg.inv(random_array1)\n",
    "print(inv)"
   ]
  },
  {
   "cell_type": "code",
   "execution_count": null,
   "metadata": {},
   "outputs": [],
   "source": [
    "# How to count the frequency of unique values in NumPy array?"
   ]
  },
  {
   "cell_type": "code",
   "execution_count": null,
   "metadata": {},
   "outputs": [],
   "source": [
    "# Multiply matrices of complex numbers using NumPy in Python"
   ]
  },
  {
   "cell_type": "code",
   "execution_count": null,
   "metadata": {},
   "outputs": [],
   "source": [
    "# Compute the outer product of two given vectors using NumPy in Python\n",
    "\n",
    "import numpy as np\n",
    "\n",
    "random_array1 = np.array([1, 2, 3])\n",
    "random_array2 = np.array([4, 5, 6])\n",
    "outer = np.outer(random_array1, random_array2)\n",
    "print(outer)"
   ]
  },
  {
   "cell_type": "code",
   "execution_count": 135,
   "metadata": {},
   "outputs": [
    {
     "name": "stdout",
     "output_type": "stream",
     "text": [
      "11\n",
      "[[3 4]\n",
      " [6 8]]\n",
      "[-4 -4]\n",
      "-2\n"
     ]
    }
   ],
   "source": [
    "# Calculate inner, outer, and cross products of matrices and vectors using NumPy\n",
    "import numpy as np\n",
    "\n",
    "random_array1 = np.array([[1, 2], [3, 4]])\n",
    "random_array2 = np.array([[5, 6], [7, 8]])\n",
    "random_array3 = np.array([1, 2])\n",
    "random_array4 = np.array([3, 4])\n",
    "\n",
    "inner= np.inner(random_array3, random_array4)\n",
    "outer= np.outer(random_array3, random_array4)\n",
    "cross = np.cross(random_array1, random_array2)\n",
    "cross2 = np.cross(random_array3, random_array4)\n",
    "\n",
    "print(inner)\n",
    "print(outer)\n",
    "print(cross)\n",
    "print(cross2)"
   ]
  },
  {
   "cell_type": "code",
   "execution_count": 136,
   "metadata": {},
   "outputs": [
    {
     "name": "stdout",
     "output_type": "stream",
     "text": [
      "[[1. 1.]\n",
      " [1. 1.]]\n"
     ]
    }
   ],
   "source": [
    "# Compute the covariance matrix of two given NumPy arrays\n",
    "import numpy as np\n",
    "\n",
    "random_array1 = np.array([1, 2, 3])\n",
    "random_array2 = np.array([4, 5, 6])\n",
    "cov = np.cov(random_array1, random_array2)\n",
    "print(cov)"
   ]
  },
  {
   "cell_type": "code",
   "execution_count": 139,
   "metadata": {},
   "outputs": [
    {
     "name": "stdout",
     "output_type": "stream",
     "text": [
      "[[1.         1.22474487]\n",
      " [0.40824829 1.        ]]\n"
     ]
    }
   ],
   "source": [
    "# Convert covariance matrix to correlation matrix using Python\n",
    "import numpy as np\n",
    "\n",
    "cov = np.array([[2.0, 3.0], [1.0, 3.0]])\n",
    "std_dev = np.sqrt(np.diag(cov))\n",
    "cor = cov / np.outer(std_dev, std_dev)\n",
    "print(cor)"
   ]
  },
  {
   "cell_type": "code",
   "execution_count": 140,
   "metadata": {},
   "outputs": [
    {
     "name": "stdout",
     "output_type": "stream",
     "text": [
      "[[ 5  6 10 12]\n",
      " [ 7  8 14 16]\n",
      " [15 18 20 24]\n",
      " [21 24 28 32]]\n"
     ]
    }
   ],
   "source": [
    "# Compute the Kronecker product of two mulitdimension NumPy arrays\n",
    "import numpy as np\n",
    "\n",
    "random_array1 = np.array([[1, 2], [3, 4]])\n",
    "random_array2 = np.array([[5, 6], [7, 8]])\n",
    "kron = np.kron(random_array1, random_array2)\n",
    "print(kron)"
   ]
  },
  {
   "cell_type": "code",
   "execution_count": 142,
   "metadata": {},
   "outputs": [
    {
     "name": "stdout",
     "output_type": "stream",
     "text": [
      "[[1, 2], [3, 4]]\n",
      "<class 'list'>\n"
     ]
    }
   ],
   "source": [
    "# Convert the matrix into a list\n",
    "\n",
    "import numpy as np\n",
    "\n",
    "random_array1 = np.array([[1, 2], [3, 4]])\n",
    "\n",
    "tolist = random_array1.tolist()\n",
    "print(tolist)\n",
    "print(type(tolist))"
   ]
  },
  {
   "attachments": {},
   "cell_type": "markdown",
   "metadata": {},
   "source": [
    "# Questions on NumPy Random\n",
    "\n",
    "* Create a Numpy array with random values\n",
    "* How to choose elements from the list with different probability using NumPy?\n",
    "* How to get weighted random choice in Python?\n",
    "* Generate Random Numbers From The Uniform Distribution using NumPy\n",
    "* Get Random Elements form geometric distribution\n",
    "* Get Random elements from Laplace distribution\n",
    "* Return a Matrix of random values from a uniform distribution\n",
    "* Return a Matrix of random values from a Gaussian distribution"
   ]
  },
  {
   "cell_type": "code",
   "execution_count": 31,
   "metadata": {},
   "outputs": [
    {
     "name": "stdout",
     "output_type": "stream",
     "text": [
      "<class 'numpy.ndarray'>\n",
      "[3 1 1 0 2]\n"
     ]
    }
   ],
   "source": [
    "# Create a Numpy array with random values\n",
    "\n",
    "import numpy as np\n",
    "\n",
    "rng = np.random\n",
    "random_array = rng.randint(0,5,5)\n",
    "print(type(random_array))\n",
    "print(random_array)\n"
   ]
  },
  {
   "cell_type": "code",
   "execution_count": 58,
   "metadata": {},
   "outputs": [
    {
     "name": "stdout",
     "output_type": "stream",
     "text": [
      "[3 0 0 4 1]\n",
      "[0.3, 0.2, 0.2, 0.2, 0.1]\n",
      "1\n"
     ]
    }
   ],
   "source": [
    "# How to choose elements from the list with different probability using NumPy?\n",
    "\n",
    "import numpy as np\n",
    "\n",
    "rng = np.random\n",
    "random_array = rng.randint(0,5,5)\n",
    "w = [0.3,0.2,0.2,0.2,0.1]\n",
    "\n",
    "print(random_array)\n",
    "print(w)\n",
    "print(rng.choice(random_array,p=w))\n"
   ]
  },
  {
   "cell_type": "code",
   "execution_count": 52,
   "metadata": {},
   "outputs": [
    {
     "name": "stdout",
     "output_type": "stream",
     "text": [
      "[3 2 0 4 1]\n",
      "[1, 2, 3, 4, 5]\n",
      "[1]\n"
     ]
    }
   ],
   "source": [
    "# How to get weighted random choice in Python?\n",
    "\n",
    "import random \n",
    "import numpy as np\n",
    "\n",
    "rng = np.random\n",
    "random_array = rng.randint(0,5,5)\n",
    "w = [x for x in range(1,6)]\n",
    "\n",
    "print(random_array)\n",
    "print(w)\n",
    "\n",
    "random_choice = random.choices(random_array,w,k=1)\n",
    "print(random_choice)"
   ]
  },
  {
   "cell_type": "code",
   "execution_count": 21,
   "metadata": {},
   "outputs": [
    {
     "name": "stdout",
     "output_type": "stream",
     "text": [
      "0.2525736458609297\n"
     ]
    }
   ],
   "source": [
    "# Generate Random Numbers From The Uniform Distribution using NumPy\n",
    "\n",
    "import numpy as np\n",
    "\n",
    "rng = np.random\n",
    "value_from_uniform = rng.uniform()\n",
    "print(value_from_uniform)"
   ]
  },
  {
   "cell_type": "code",
   "execution_count": 23,
   "metadata": {},
   "outputs": [
    {
     "name": "stdout",
     "output_type": "stream",
     "text": [
      "7\n"
     ]
    }
   ],
   "source": [
    "#Get Random Elements form geometric distribution\n",
    "\n",
    "import numpy as np\n",
    "\n",
    "rng = np.random\n",
    "\n",
    "value_from_geometric = rng.geometric(0.35)\n",
    "print(value_from_geometric)"
   ]
  },
  {
   "cell_type": "code",
   "execution_count": 24,
   "metadata": {},
   "outputs": [
    {
     "name": "stdout",
     "output_type": "stream",
     "text": [
      "1.6625502737058733\n"
     ]
    }
   ],
   "source": [
    "#Get Random elements from Laplace distribution\n",
    "\n",
    "import numpy as np\n",
    "\n",
    "rng = np.random\n",
    "value_from_laplace = rng.laplace()\n",
    "print(value_from_laplace)"
   ]
  },
  {
   "cell_type": "code",
   "execution_count": 19,
   "metadata": {},
   "outputs": [
    {
     "name": "stdout",
     "output_type": "stream",
     "text": [
      "[[1.76193327 1.57506645 1.36090448]\n",
      " [1.9389375  0.73962324 2.18846955]\n",
      " [3.35589716 0.38240967 4.16169106]]\n"
     ]
    }
   ],
   "source": [
    "# Return a Matrix of random values from a uniform distribution\n",
    "\n",
    "import numpy as np\n",
    "\n",
    "rng = np.random\n",
    "random_uniform_array = rng.uniform(0,5,(3,3))\n",
    "print(random_uniform_array)"
   ]
  },
  {
   "attachments": {},
   "cell_type": "markdown",
   "metadata": {},
   "source": [
    "# Questions on NumPy Linear Algebra\n",
    "\n",
    "* Find a matrix or vector norm using NumPy\n",
    "* Calculate the QR decomposition of a given matrix using NumPy\n",
    "* Compute the condition number of a given matrix using NumPy\n",
    "* Compute the eigenvalues and right eigenvectors of a given square array using NumPy?\n",
    "* Calculate the Euclidean distance using NumPy"
   ]
  },
  {
   "cell_type": "code",
   "execution_count": 116,
   "metadata": {},
   "outputs": [
    {
     "name": "stdout",
     "output_type": "stream",
     "text": [
      "[[0 4 0]\n",
      " [0 3 1]\n",
      " [1 1 1]]\n",
      "5.385164807134504\n"
     ]
    }
   ],
   "source": [
    "# Find a matrix or vector norm using NumPy\n",
    "\n",
    "import numpy as np\n",
    "from numpy import linalg as LA\n",
    "\n",
    "rng = np.random\n",
    "random_array = rng.randint(0,5,(3,3))\n",
    "print(random_array)\n",
    "\n",
    "norm = LA.norm(random_array)\n",
    "print(norm)\n",
    "\n",
    "\n"
   ]
  },
  {
   "cell_type": "code",
   "execution_count": 1,
   "metadata": {},
   "outputs": [
    {
     "name": "stdout",
     "output_type": "stream",
     "text": [
      "[[4 4 4]\n",
      " [3 0 0]\n",
      " [4 4 2]]\n",
      "(array([[-6.24695048e-01,  3.31294578e-01, -7.07106781e-01],\n",
      "       [-4.68521286e-01, -8.83452209e-01,  1.11022302e-16],\n",
      "       [-6.24695048e-01,  3.31294578e-01,  7.07106781e-01]]), array([[-6.40312424, -4.99756038, -3.74817029],\n",
      "       [ 0.        ,  2.65035663,  1.98776747],\n",
      "       [ 0.        ,  0.        , -1.41421356]]))\n"
     ]
    }
   ],
   "source": [
    "# Calculate the QR decomposition of a given matrix using NumPy\n",
    "\n",
    "import numpy as np\n",
    "from numpy import linalg as LA\n",
    "\n",
    "rng = np.random\n",
    "random_array = rng.randint(0,5,(3,3))\n",
    "print(random_array)\n",
    "\n",
    "decomp = LA.qr(random_array)\n",
    "print(decomp)"
   ]
  },
  {
   "cell_type": "code",
   "execution_count": 119,
   "metadata": {},
   "outputs": [
    {
     "name": "stdout",
     "output_type": "stream",
     "text": [
      "[[3 3 3]\n",
      " [3 0 1]\n",
      " [3 4 1]]\n",
      "5.312868341867965\n"
     ]
    }
   ],
   "source": [
    "# Compute the condition number of a given matrix using NumPy\n",
    "\n",
    "import numpy as np\n",
    "from numpy import linalg as LA\n",
    "\n",
    "rng = np.random\n",
    "random_array = rng.randint(0,5,(3,3))\n",
    "print(random_array)\n",
    "\n",
    "cond = LA.cond(random_array)\n",
    "print(cond)"
   ]
  },
  {
   "cell_type": "code",
   "execution_count": 120,
   "metadata": {},
   "outputs": [
    {
     "name": "stdout",
     "output_type": "stream",
     "text": [
      "[[1 2 0]\n",
      " [1 1 3]\n",
      " [1 2 3]]\n",
      "(array([ 5.0806044 ,  0.72918152, -0.80978592]), array([[-0.29980387, -0.94430137,  0.73244635],\n",
      "       [-0.61169049,  0.12786713, -0.66278554],\n",
      "       [-0.73208768,  0.3032242 ,  0.15568453]]))\n"
     ]
    }
   ],
   "source": [
    "# Compute the eigenvalues and right eigenvectors of a given square array using NumPy?\n",
    "import numpy as np\n",
    "from numpy import linalg as LA\n",
    "\n",
    "rng = np.random\n",
    "random_array = rng.randint(0,5,(3,3))\n",
    "print(random_array)\n",
    "eigvalues = LA.eig(random_array)\n",
    "print(eigvalues)"
   ]
  },
  {
   "cell_type": "code",
   "execution_count": 124,
   "metadata": {},
   "outputs": [
    {
     "name": "stdout",
     "output_type": "stream",
     "text": [
      "[3 4 1]\n",
      "[0 4 0]\n",
      "3.1622776601683795\n"
     ]
    }
   ],
   "source": [
    "# Calculate the Euclidean distance using NumPy\n",
    "\n",
    "import numpy as np\n",
    "from numpy import linalg as LA\n",
    "\n",
    "rng = np.random\n",
    "random_array1 = rng.randint(0,5,3)\n",
    "random_array2 = rng.randint(0,5,3)\n",
    "print(random_array1)\n",
    "print(random_array2)\n",
    "\n",
    "euclidean = LA.norm(random_array1-random_array2)\n",
    "print(euclidean)\n"
   ]
  },
  {
   "attachments": {},
   "cell_type": "markdown",
   "metadata": {},
   "source": [
    "# Questions on Polynomial\n",
    "\n",
    "* Define a polynomial function\n",
    "* How to add one polynomial to another using NumPy in Python?\n",
    "* How to subtract one polynomial to another using NumPy in Python?\n",
    "* How to multiply a polynomial to another using NumPy in Python?\n",
    "* How to divide a polynomial to another using NumPy in Python?\n",
    "* Find the roots of the polynomials using NumPy\n",
    "* Evaluate a 2-D polynomial series on the Cartesian product\n",
    "* Evaluate a 3-D polynomial series on the Cartesian product"
   ]
  },
  {
   "cell_type": "code",
   "execution_count": 18,
   "metadata": {},
   "outputs": [
    {
     "name": "stdout",
     "output_type": "stream",
     "text": [
      "3.0 + 2.0·x + 7.0·x²\n"
     ]
    }
   ],
   "source": [
    "# Define a polynomial function\n",
    "\n",
    "import numpy as np\n",
    "from numpy import polynomial as pol\n",
    "\n",
    "pol_function = pol.Polynomial([3, 2, 7])\n",
    "print(pol_function)"
   ]
  },
  {
   "cell_type": "code",
   "execution_count": 20,
   "metadata": {},
   "outputs": [
    {
     "name": "stdout",
     "output_type": "stream",
     "text": [
      "5.0 + 5.0·x + 11.0·x²\n"
     ]
    }
   ],
   "source": [
    "# How to add one polynomial to another using NumPy in Python?\n",
    "import numpy as np\n",
    "from numpy import polynomial as pol\n",
    "\n",
    "pol_function = pol.Polynomial([3, 2, 7])\n",
    "pol_function2 = pol.Polynomial([2, 3, 4])\n",
    "\n",
    "add_pol = np.polyadd(pol_function,pol_function2)\n",
    "print(pol.Polynomial(add_pol))"
   ]
  },
  {
   "cell_type": "code",
   "execution_count": 21,
   "metadata": {},
   "outputs": [
    {
     "name": "stdout",
     "output_type": "stream",
     "text": [
      "1.0 - 1.0·x + 3.0·x²\n"
     ]
    }
   ],
   "source": [
    "# How to subtract one polynomial to another using NumPy in Python?\n",
    "\n",
    "import numpy as np\n",
    "from numpy import polynomial as pol\n",
    "\n",
    "pol_function = pol.Polynomial([3, 2, 7])\n",
    "pol_function2 = pol.Polynomial([2, 3, 4])\n",
    "\n",
    "sub_pol = np.polysub(pol_function,pol_function2)\n",
    "print(pol.Polynomial(sub_pol))"
   ]
  },
  {
   "cell_type": "code",
   "execution_count": 22,
   "metadata": {},
   "outputs": [
    {
     "name": "stdout",
     "output_type": "stream",
     "text": [
      "6.0 + 13.0·x + 32.0·x² + 29.0·x³ + 28.0·x⁴\n"
     ]
    }
   ],
   "source": [
    "# How to multiply a polynomial to another using NumPy in Python?\n",
    "import numpy as np\n",
    "from numpy import polynomial as pol\n",
    "\n",
    "pol_function = pol.Polynomial([3, 2, 7])\n",
    "pol_function2 = pol.Polynomial([2, 3, 4])\n",
    "\n",
    "mul_pol = np.polymul(pol_function,pol_function2)\n",
    "print(pol.Polynomial(mul_pol))"
   ]
  },
  {
   "cell_type": "code",
   "execution_count": 29,
   "metadata": {},
   "outputs": [
    {
     "name": "stdout",
     "output_type": "stream",
     "text": [
      "8.0 + 24.0·x + 66.0·x² + 72.0·x³ + 64.0·x⁴\n"
     ]
    }
   ],
   "source": [
    "# How to divide a polynomial to another using NumPy in Python?\n",
    "\n",
    "import numpy as np\n",
    "from numpy import polynomial as pol\n",
    "\n",
    "pol_function = pol.Polynomial([4, 6, 16])\n",
    "pol_function2 = pol.Polynomial([2, 3, 4])\n",
    "\n",
    "div_pol = np.polymul(pol_function,pol_function2)\n",
    "print(pol.Polynomial(div_pol))"
   ]
  },
  {
   "cell_type": "code",
   "execution_count": 37,
   "metadata": {},
   "outputs": [
    {
     "name": "stdout",
     "output_type": "stream",
     "text": [
      "[-0.5]\n"
     ]
    }
   ],
   "source": [
    "# Find the roots of the polynomials using NumPy\n",
    "import numpy as np\n",
    "from numpy import polynomial as pol\n",
    "\n",
    "val = np.array([4,8])\n",
    "pol_function = pol.Polynomial([4, 6, 8])\n",
    "roots_func = pol.polynomial.polyroots(val)\n",
    "\n",
    "print(roots_func)"
   ]
  },
  {
   "cell_type": "code",
   "execution_count": 40,
   "metadata": {},
   "outputs": [
    {
     "name": "stdout",
     "output_type": "stream",
     "text": [
      "[3012.  492.  252.]\n"
     ]
    }
   ],
   "source": [
    "# Evaluate a 2-D polynomial series on the Cartesian product\n",
    "import numpy as np\n",
    "from numpy import polynomial as pol\n",
    "\n",
    "val = np.array([4,8])\n",
    "pol_function = pol.Polynomial([4, 6, 8])\n",
    "cartesian = pol.polynomial.polygrid2d([4,2,5], [8,3,2], val)\n",
    "print(cartesian)"
   ]
  },
  {
   "cell_type": "code",
   "execution_count": 42,
   "metadata": {},
   "outputs": [
    {
     "name": "stdout",
     "output_type": "stream",
     "text": [
      "[11772. 15036.  3756.]\n"
     ]
    }
   ],
   "source": [
    "# Evaluate a 3-D polynomial series on the Cartesian product\n",
    "\n",
    "import numpy as np\n",
    "from numpy import polynomial as pol\n",
    "\n",
    "val = np.array([4,8])\n",
    "pol_function = pol.Polynomial([4, 6, 8])\n",
    "cartesian3d = pol.polynomial.polygrid3d([4,2,5], [8,3,2],[5,6,1], val)\n",
    "print(cartesian3d)"
   ]
  },
  {
   "attachments": {},
   "cell_type": "markdown",
   "metadata": {},
   "source": [
    "# Questions on NumPy Strings\n",
    "\n",
    "* Repeat all the elements of a NumPy array of strings\n",
    "* How to split the element of a given NumPy array with spaces?\n",
    "* How to insert a space between characters of all the elements of a given NumPy array?\n",
    "* Find the length of each string element in the Numpy array\n",
    "* Swap the case of an array of string\n",
    "* Change the case to uppercase of elements of an array\n",
    "* Change the case to lowercase of elements of an array\n",
    "* Join String by a seperator\n",
    "* Check if two same shaped string arrayss one by one\n",
    "* Count the number of substrings in an array\n",
    "* Find the lowest index of the substring in an array\n",
    "* Get the boolean array when values end with a particular character\n",
    "* More Questions on NumPy\n",
    "* Different ways to convert a Python dictionary to a NumPy array\n",
    "* How to convert a list and tuple into NumPy arrays?\n",
    "* Ways to convert array of strings to array of floats\n",
    "* Convert a NumPy array into a csv file\n",
    "* How to Convert an image to NumPy array and save it to CSV file using Python?\n",
    "* How to save a NumPy array to a text file?\n",
    "* Load data from a text file\n",
    "* Plot line graph from NumPy array\n",
    "* Create Histogram using NumPy"
   ]
  },
  {
   "cell_type": "code",
   "execution_count": 44,
   "metadata": {},
   "outputs": [
    {
     "name": "stdout",
     "output_type": "stream",
     "text": [
      "2\n",
      "['deep' 'deep' 'learning' 'learning' 'neural' 'neural' 'networks'\n",
      " 'networks']\n"
     ]
    }
   ],
   "source": [
    "# Repeat all the elements of a NumPy array of strings\n",
    "import numpy as np\n",
    "import random\n",
    "\n",
    "num = random.randint(0,5)\n",
    "\n",
    "string_array = np.array([\"deep\",\"learning\",\"digital\",\"image\"])\n",
    "print(num)\n",
    "print(np.repeat(string_array, num))\n"
   ]
  },
  {
   "cell_type": "code",
   "execution_count": 45,
   "metadata": {},
   "outputs": [
    {
     "name": "stdout",
     "output_type": "stream",
     "text": [
      "[list(['deep', 'image'])]\n"
     ]
    }
   ],
   "source": [
    "# How to split the element of a given NumPy array with spaces?\n",
    "import numpy as np\n",
    "from numpy import char as ch\n",
    "string_array = np.array(['deep image'])\n",
    "split_string = ch.split(string_array, ' ')\n",
    "print(split_string)"
   ]
  },
  {
   "cell_type": "code",
   "execution_count": 47,
   "metadata": {},
   "outputs": [
    {
     "name": "stdout",
     "output_type": "stream",
     "text": [
      "['d e e p   i m a g e']\n"
     ]
    }
   ],
   "source": [
    "# How to insert a space between characters of all the elements of a given NumPy array?\n",
    "import numpy as np\n",
    "from numpy import char as ch\n",
    "string_array = np.array(['deep image'])\n",
    "split_string = ch.join(' ',string_array)\n",
    "print(split_string)"
   ]
  },
  {
   "cell_type": "code",
   "execution_count": 49,
   "metadata": {},
   "outputs": [
    {
     "name": "stdout",
     "output_type": "stream",
     "text": [
      "[4 8 7 5]\n"
     ]
    }
   ],
   "source": [
    "# Find the length of each string element in the Numpy array\n",
    "import numpy as np\n",
    "from numpy import char as ch\n",
    "string_array = np.array([\"deep\",\"learning\",\"digital\",\"image\"])\n",
    "lenght_string = ch.str_len(string_array)\n",
    "print(lenght_string)"
   ]
  },
  {
   "cell_type": "code",
   "execution_count": 51,
   "metadata": {},
   "outputs": [
    {
     "name": "stdout",
     "output_type": "stream",
     "text": [
      "['DeeP' 'LEaRnInG' 'DIgIgAL' 'iMAGE']\n"
     ]
    }
   ],
   "source": [
    "# Swap the case of an array of string\n",
    "\n",
    "import numpy as np\n",
    "from numpy import char as ch\n",
    "string_array = np.array([\"dEEp\",\"leArNiNg\",\"diGiGal\",\"Image\"])\n",
    "swap = ch.swapcase(string_array)\n",
    "print(swap)"
   ]
  },
  {
   "cell_type": "code",
   "execution_count": 53,
   "metadata": {},
   "outputs": [
    {
     "name": "stdout",
     "output_type": "stream",
     "text": [
      "['DEEP' 'LEARNING' 'DIGIGAL' 'IMAGE']\n"
     ]
    }
   ],
   "source": [
    "# Change the case to uppercase of elements of an array\n",
    "import numpy as np\n",
    "from numpy import char as ch\n",
    "string_array = np.array([\"dEEp\",\"leArNiNg\",\"diGiGal\",\"Image\"])\n",
    "upp = ch.upper(string_array)\n",
    "print(upp)"
   ]
  },
  {
   "cell_type": "code",
   "execution_count": 54,
   "metadata": {},
   "outputs": [
    {
     "name": "stdout",
     "output_type": "stream",
     "text": [
      "['deep' 'learning' 'digigal' 'image']\n"
     ]
    }
   ],
   "source": [
    "# Change the case to lowercase of elements of an array\n",
    "import numpy as np\n",
    "from numpy import char as ch\n",
    "string_array = np.array([\"dEEp\",\"leArNiNg\",\"diGiGal\",\"Image\"])\n",
    "low = ch.lower(string_array)\n",
    "print(low)"
   ]
  },
  {
   "cell_type": "code",
   "execution_count": 56,
   "metadata": {},
   "outputs": [
    {
     "name": "stdout",
     "output_type": "stream",
     "text": [
      "['d-E-E-p- -l-e-A-r-N-i-N-g']\n"
     ]
    }
   ],
   "source": [
    "# Join String by a seperator\n",
    "import numpy as np\n",
    "from numpy import char as ch\n",
    "string_array = np.array([\"dEEp leArNiNg\"])\n",
    "joined = ch.join(\"-\",string_array)\n",
    "print(joined)"
   ]
  },
  {
   "cell_type": "code",
   "execution_count": 58,
   "metadata": {},
   "outputs": [
    {
     "name": "stdout",
     "output_type": "stream",
     "text": [
      "[False]\n"
     ]
    }
   ],
   "source": [
    "# Check if two same shaped string arrayss one by one\n",
    "import numpy as np\n",
    "from numpy import char as ch\n",
    "string_array = np.array([\"diGiGal Image\"])\n",
    "string_array2 = np.array([\"diGiTal Image\"])\n",
    "eq = ch.equal(string_array,string_array2)\n",
    "print(eq)"
   ]
  },
  {
   "cell_type": "code",
   "execution_count": 60,
   "metadata": {},
   "outputs": [
    {
     "name": "stdout",
     "output_type": "stream",
     "text": [
      "[1 1]\n"
     ]
    }
   ],
   "source": [
    "# Count the number of substrings in an array\n",
    "import numpy as np\n",
    "from numpy import char as ch\n",
    "string_array = np.array([\"deeplearning\",\"johnny deep\"])\n",
    "sub = ch.count(string_array,\"deep\")\n",
    "print(sub)"
   ]
  },
  {
   "cell_type": "code",
   "execution_count": 61,
   "metadata": {},
   "outputs": [
    {
     "name": "stdout",
     "output_type": "stream",
     "text": [
      "[0 7]\n"
     ]
    }
   ],
   "source": [
    "# Find the lowest index of the substring in an array\n",
    "import numpy as np\n",
    "from numpy import char as ch\n",
    "string_array = np.array([\"deeplearning\",\"johnny deep\"])\n",
    "sublow = ch.find(string_array,\"deep\")\n",
    "print(sublow)"
   ]
  },
  {
   "cell_type": "code",
   "execution_count": 63,
   "metadata": {},
   "outputs": [
    {
     "name": "stdout",
     "output_type": "stream",
     "text": [
      "[ True False]\n"
     ]
    }
   ],
   "source": [
    "# Get the boolean array when values end with a particular character\n",
    "import numpy as np\n",
    "from numpy import char as ch\n",
    "string_array = np.array([\"deeplearning\",\"johnny deep\"])\n",
    "endbol = ch.endswith(string_array,\"ing\")\n",
    "print(endbol)"
   ]
  },
  {
   "cell_type": "code",
   "execution_count": 67,
   "metadata": {},
   "outputs": [
    {
     "name": "stdout",
     "output_type": "stream",
     "text": [
      "{'a': 1, 'b': 2, 'c': 3}\n",
      "[['a' '1']\n",
      " ['b' '2']\n",
      " ['c' '3']]\n",
      "[('a', 1) ('b', 2) ('c', 3)]\n"
     ]
    }
   ],
   "source": [
    "# Different ways to convert a Python dictionary to a NumPy array\n",
    "import numpy as np\n",
    "dictpy = {\"a\":1,\"b\":2,\"c\":3}\n",
    "\n",
    "forma1 = np.array(list(dictpy.items()))\n",
    "forma2 = np.fromiter(dictpy.items(), dtype=[('key', '<U10'), ('value', int)])\n",
    "\n",
    "print(dictpy)\n",
    "print(forma1)\n",
    "print(forma2)"
   ]
  },
  {
   "cell_type": "code",
   "execution_count": 75,
   "metadata": {},
   "outputs": [
    {
     "name": "stdout",
     "output_type": "stream",
     "text": [
      "[0, 1, 2, 3, 4]\n",
      "<generator object <genexpr> at 0x7f34c6b84ba0>\n",
      "[0 1 2 3 4]\n",
      "<generator object <genexpr> at 0x7f34c6b84ba0>\n"
     ]
    }
   ],
   "source": [
    "# How to convert a list and tuple into NumPy arrays?\n",
    "\n",
    "import numpy as np \n",
    "\n",
    "lista = [x for x in range(5)]\n",
    "tuplas = (x for x in range(5))\n",
    "\n",
    "print(lista)\n",
    "print(tuplas)\n",
    "\n",
    "lista_np = np.array(lista)\n",
    "tupla_np = np.array(tuplas)\n",
    "\n",
    "print(lista_np)\n",
    "print(tupla_np)\n"
   ]
  },
  {
   "cell_type": "code",
   "execution_count": 77,
   "metadata": {},
   "outputs": [
    {
     "name": "stdout",
     "output_type": "stream",
     "text": [
      "float64\n"
     ]
    }
   ],
   "source": [
    "# Ways to convert array of strings to array of floats\n",
    "import numpy as np\n",
    "string_array = np.array(['120', '120.1', '120.5678'])\n",
    "float_string = np.fromstring(' '.join(string_array), dtype=float, sep=' ')\n",
    "print(float_string.dtype)"
   ]
  },
  {
   "cell_type": "code",
   "execution_count": null,
   "metadata": {},
   "outputs": [],
   "source": [
    "# Convert a NumPy array into a csv file\n",
    "import numpy as np\n",
    "string_array = np.array(['120', '120.1', '120.5678'])\n",
    "csv = np.savetxt('string.csv', string_array)"
   ]
  },
  {
   "cell_type": "code",
   "execution_count": null,
   "metadata": {},
   "outputs": [],
   "source": [
    "# How to Convert an image to NumPy array and save it to CSV file using Python?\n",
    "from PIL import Image\n",
    "import numpy as np\n",
    "\n",
    "lena = Image.open('lena.png')\n",
    "np_array = np.array(lena)\n",
    "\n",
    "csv = np.savetxt('lena.csv', np_array)"
   ]
  },
  {
   "cell_type": "code",
   "execution_count": null,
   "metadata": {},
   "outputs": [],
   "source": [
    "# How to save a NumPy array to a text file?\n",
    "import numpy as np\n",
    "string_array = np.array(['120', '120.1', '120.5678'])\n",
    "np.savetxt('array.txt', string_array)\n"
   ]
  },
  {
   "cell_type": "code",
   "execution_count": 78,
   "metadata": {},
   "outputs": [],
   "source": [
    "# Load data from a text file\n",
    "import numpy as np\n",
    "\n",
    "text_array = np.loadtxt('array.txt')"
   ]
  },
  {
   "cell_type": "code",
   "execution_count": 79,
   "metadata": {},
   "outputs": [
    {
     "data": {
      "image/png": "[encoded data removed]",
      "text/plain": [
       "<Figure size 640x480 with 1 Axes>"
      ]
     },
     "metadata": {},
     "output_type": "display_data"
    }
   ],
   "source": [
    "# Plot line graph from NumPy array\n",
    "\n",
    "import matplotlib.pyplot as plt\n",
    "import numpy as np\n",
    "\n",
    "random_array1 = np.array([1, 2, 3])\n",
    "random_array2 = np.array([3, 2, 1])\n",
    "\n",
    "plt.plot(random_array1, random_array2)\n",
    "plt.show()"
   ]
  },
  {
   "cell_type": "code",
   "execution_count": 81,
   "metadata": {},
   "outputs": [
    {
     "data": {
      "image/png": "[encoded data removed]",
      "text/plain": [
       "<Figure size 640x480 with 1 Axes>"
      ]
     },
     "metadata": {},
     "output_type": "display_data"
    }
   ],
   "source": [
    "# Create Histogram using NumPy\n",
    "import numpy as np\n",
    "\n",
    "hist = np.array([6,6,6,6,9,9,9])\n",
    "\n",
    "plt.hist(hist)\n",
    "plt.show()"
   ]
  },
  {
   "attachments": {},
   "cell_type": "markdown",
   "metadata": {},
   "source": [
    "# Questions on NumPy Indexing\n",
    "\n",
    "* Replace NumPy array elements that doesn’t satisfy the given condition\n",
    "* Return the indices of elements where the given condition is satisfied\n",
    "* Replace NaN values with average of columns\n",
    "* Replace negative value with zero in numpy array\n",
    "* How to get values of an NumPy array at certain index positions?\n",
    "* Find indices of elements equal to zero in a NumPy array\n",
    "* How to Remove columns in Numpy array that contains non-numeric values?\n",
    "* How to access different rows of a multidimensional NumPy array?\n",
    "* Get row numbers of NumPy array having element larger than X\n",
    "* Get filled the diagonals of NumPy array\n",
    "* Check elements present in the NumPy array\n",
    "* Combined array index by index"
   ]
  },
  {
   "cell_type": "code",
   "execution_count": 16,
   "metadata": {},
   "outputs": [
    {
     "name": "stdout",
     "output_type": "stream",
     "text": [
      "[2 8 2 5 2 8]\n",
      "[-99   8 -99   5 -99   8]\n"
     ]
    }
   ],
   "source": [
    "# * Replace NumPy array elements that doesn’t satisfy the given condition\n",
    "\n",
    "import numpy as np\n",
    "rng = np.random\n",
    "random_array1 = rng.randint(0,10,6)\n",
    "print(random_array1)\n",
    "\n",
    "array_where = np.where(random_array1>4,random_array1,-99)\n",
    "print(array_where)"
   ]
  },
  {
   "cell_type": "code",
   "execution_count": 12,
   "metadata": {},
   "outputs": [
    {
     "name": "stdout",
     "output_type": "stream",
     "text": [
      "[5 8 9 7 0 5]\n",
      "(array([0, 1, 2, 3, 5]),)\n"
     ]
    }
   ],
   "source": [
    "# Return the indices of elements where the given condition is satisfied\n",
    "import numpy as np\n",
    "import numpy.ma as ma\n",
    "rng = np.random\n",
    "random_array1 = rng.randint(0,10,6)\n",
    "print(random_array1)\n",
    "\n",
    "mask = ma.nonzero(random_array1>3)\n",
    "print(mask)\n"
   ]
  },
  {
   "cell_type": "code",
   "execution_count": 36,
   "metadata": {},
   "outputs": [
    {
     "name": "stdout",
     "output_type": "stream",
     "text": [
      "[[ 0.  1.]\n",
      " [nan  3.]\n",
      " [ 4.  5.]]\n",
      "[[0. 1.]\n",
      " [2. 3.]\n",
      " [4. 5.]]\n"
     ]
    }
   ],
   "source": [
    "# Replace NaN values with average of columns\n",
    "\n",
    "import numpy as np\n",
    "import numpy.ma as ma\n",
    "rng = np.random\n",
    "random_array1 = np.array([[0, 1],[np.nan, 3],[4, 5]])\n",
    "print(random_array1)\n",
    "\n",
    "column_average = np.nanmean(random_array1, axis=0)\n",
    "\n",
    "mask = np.isnan(random_array1)\n",
    "\n",
    "random_array1[mask] = np.take(column_average, np.where(mask)[1])\n",
    "\n",
    "print(random_array1)\n",
    "\n"
   ]
  },
  {
   "cell_type": "code",
   "execution_count": 40,
   "metadata": {},
   "outputs": [
    {
     "name": "stdout",
     "output_type": "stream",
     "text": [
      "[ 6  8 -9 -6  5 -4]\n",
      "[6 8 0 0 5 0]\n"
     ]
    }
   ],
   "source": [
    "# Replace negative value with zero in numpy array\n",
    "\n",
    "import numpy as np\n",
    "rng = np.random\n",
    "random_array1 = rng.randint(-10,10,6)\n",
    "print(random_array1)\n",
    "\n",
    "array_where = np.where(random_array1>0,random_array1,0)\n",
    "print(array_where)"
   ]
  },
  {
   "cell_type": "code",
   "execution_count": 43,
   "metadata": {},
   "outputs": [
    {
     "name": "stdout",
     "output_type": "stream",
     "text": [
      "[  8   4   5  -6 -10   0]\n",
      "[8 4]\n"
     ]
    }
   ],
   "source": [
    "# How to get values of an NumPy array at certain index positions?\n",
    "\n",
    "import numpy as np\n",
    "rng = np.random\n",
    "random_array1 = rng.randint(-10,10,6)\n",
    "pos = [0,1]\n",
    "print(random_array1)\n",
    "print(random_array1[pos])"
   ]
  },
  {
   "cell_type": "code",
   "execution_count": 46,
   "metadata": {},
   "outputs": [
    {
     "name": "stdout",
     "output_type": "stream",
     "text": [
      "[1 0 2 3 9 5]\n",
      "(array([1]),)\n"
     ]
    }
   ],
   "source": [
    "# Find indices of elements equal to zero in a NumPy array\n",
    "\n",
    "import numpy as np\n",
    "rng = np.random\n",
    "random_array1 = rng.randint(0,10,6)\n",
    "print(random_array1)\n",
    "\n",
    "indices = np.nonzero(random_array1==0)\n",
    "print(indices)"
   ]
  },
  {
   "cell_type": "code",
   "execution_count": 48,
   "metadata": {},
   "outputs": [],
   "source": [
    "\n",
    "# How to Remove columns in Numpy array that contains non-numeric values?\n",
    "\n"
   ]
  },
  {
   "cell_type": "code",
   "execution_count": 51,
   "metadata": {},
   "outputs": [
    {
     "name": "stdout",
     "output_type": "stream",
     "text": [
      "[[7 6 9]\n",
      " [9 5 2]\n",
      " [3 7 5]]\n",
      "\n",
      "[7 6 9]\n"
     ]
    }
   ],
   "source": [
    "# How to access different rows of a multidimensional NumPy array?\n",
    "\n",
    "import numpy as np\n",
    "rng = np.random\n",
    "random_array1 = rng.randint(0,10,(3,3))\n",
    "print(random_array1)\n",
    "\n",
    "print()\n",
    "print(random_array1[0])\n",
    "\n"
   ]
  },
  {
   "cell_type": "code",
   "execution_count": 54,
   "metadata": {},
   "outputs": [
    {
     "name": "stdout",
     "output_type": "stream",
     "text": [
      "[[8 5 0]\n",
      " [3 7 5]\n",
      " [6 1 9]]\n",
      "(array([0, 1, 2]),)\n"
     ]
    }
   ],
   "source": [
    "# Get row numbers of NumPy array having element larger than X\n",
    "\n",
    "import numpy as np\n",
    "rng = np.random\n",
    "random_array1 = rng.randint(0,10,(3,3))\n",
    "print(random_array1)\n",
    "\n",
    "larger_than = 5\n",
    "row = np.where(np.any(random_array1 > larger_than, axis=1))\n",
    "\n",
    "print(row)\n",
    "\n"
   ]
  },
  {
   "cell_type": "code",
   "execution_count": 55,
   "metadata": {},
   "outputs": [
    {
     "name": "stdout",
     "output_type": "stream",
     "text": [
      "[[9 0 3]\n",
      " [9 6 6]\n",
      " [6 1 5]]\n",
      "[[-99   0   3]\n",
      " [  9 -99   6]\n",
      " [  6   1 -99]]\n"
     ]
    }
   ],
   "source": [
    "# Get filled the diagonals of NumPy array\n",
    "\n",
    "import numpy as np\n",
    "rng = np.random\n",
    "random_array1 = rng.randint(0,10,(3,3))\n",
    "print(random_array1)\n",
    "\n",
    "np.fill_diagonal(random_array1, -99)\n",
    "print(random_array1)\n"
   ]
  },
  {
   "cell_type": "code",
   "execution_count": 56,
   "metadata": {},
   "outputs": [
    {
     "name": "stdout",
     "output_type": "stream",
     "text": [
      "[[2 6 6]\n",
      " [4 4 9]\n",
      " [7 1 5]]\n",
      "[[False False False]\n",
      " [False False False]\n",
      " [False False  True]]\n"
     ]
    }
   ],
   "source": [
    "# Check elements present in the NumPy array\n",
    "\n",
    "import numpy as np\n",
    "rng = np.random\n",
    "random_array1 = rng.randint(0,10,(3,3))\n",
    "print(random_array1)\n",
    "\n",
    "present = np.isin(random_array1, 5)\n",
    "print(present)\n"
   ]
  },
  {
   "cell_type": "code",
   "execution_count": 60,
   "metadata": {},
   "outputs": [
    {
     "name": "stdout",
     "output_type": "stream",
     "text": [
      "[[4 6 2]\n",
      " [4 0 5]\n",
      " [6 2 6]]\n",
      "\n",
      "[[6 3 0]\n",
      " [3 8 4]\n",
      " [0 4 9]]\n",
      "\n",
      "[[10  9  2]\n",
      " [ 7  8  9]\n",
      " [ 6  6 15]]\n"
     ]
    }
   ],
   "source": [
    "# Combined array index by index\n",
    "\n",
    "\n",
    "import numpy as np\n",
    "rng = np.random\n",
    "random_array1 = rng.randint(0,10,(3,3))\n",
    "print(random_array1)\n",
    "\n",
    "print()\n",
    "\n",
    "random_array2 = rng.randint(0,10,(3,3))\n",
    "print(random_array2)\n",
    "\n",
    "print()\n",
    "print(random_array1+random_array2)\n"
   ]
  },
  {
   "attachments": {},
   "cell_type": "markdown",
   "metadata": {},
   "source": [
    "# Questions on NumPy Statistics\n",
    "\n",
    "* Compute the median of the flattened NumPy array\n",
    "* Find Mean of a List of Numpy Array\n",
    "* Calculate the mean of array ignoring the NaN value\n",
    "* Get the mean value from given matrix\n",
    "* Compute the variance of the NumPy array\n",
    "* Compute the standard deviation of the NumPy array\n",
    "* Compute pearson product-moment correlation coefficients of two given NumPy arrays\n",
    "* Calculate the mean across dimension in a 2D NumPy array\n",
    "* Calculate the average, variance and standard deviation in Python using NumPy\n",
    "* Describe a NumPy Array in Python"
   ]
  },
  {
   "cell_type": "code",
   "execution_count": 2,
   "metadata": {},
   "outputs": [
    {
     "name": "stdout",
     "output_type": "stream",
     "text": [
      "[5 4 4 3]\n",
      "4.0\n"
     ]
    }
   ],
   "source": [
    "#Compute the median of the flattened NumPy array\n",
    "\n",
    "import numpy as np\n",
    "rng = np.random\n",
    "random_array1 = rng.randint(0,10,(2,2))\n",
    "flattened = random_array1.flatten()\n",
    "\n",
    "print(flattened)\n",
    "print(np.median(flattened))\n"
   ]
  },
  {
   "cell_type": "code",
   "execution_count": 4,
   "metadata": {},
   "outputs": [
    {
     "name": "stdout",
     "output_type": "stream",
     "text": [
      "[array([5, 7, 8]), array([8, 0, 4])]\n",
      "5.333333333333333\n"
     ]
    }
   ],
   "source": [
    "#Find Mean of a List of Numpy Array\n",
    "\n",
    "import numpy as np\n",
    "rng = np.random\n",
    "lista = [rng.randint(0,10,3),rng.randint(0,10,3)]\n",
    "media = np.mean(np.array(lista))\n",
    "print(lista)\n",
    "print(media)\n"
   ]
  },
  {
   "cell_type": "code",
   "execution_count": 6,
   "metadata": {},
   "outputs": [
    {
     "name": "stdout",
     "output_type": "stream",
     "text": [
      "[ 1.  2.  3. nan  5.]\n",
      "2.75\n"
     ]
    }
   ],
   "source": [
    "#Calculate the mean of array ignoring the NaN value\n",
    "\n",
    "import numpy as np\n",
    "random_array = np.array([1, 2,3,np.nan,5])\n",
    "nan_mean = np.nanmean(random_array)\n",
    "print(random_array)\n",
    "print(nan_mean)"
   ]
  },
  {
   "cell_type": "code",
   "execution_count": 8,
   "metadata": {},
   "outputs": [
    {
     "name": "stdout",
     "output_type": "stream",
     "text": [
      "[[6 2 4]\n",
      " [8 3 6]\n",
      " [1 2 0]]\n",
      "3.5555555555555554\n"
     ]
    }
   ],
   "source": [
    "#Get the mean value from given matrix\n",
    "import numpy as np\n",
    "rng = np.random\n",
    "random_array1 = rng.randint(0,10,(3,3))\n",
    "\n",
    "matriz_media = np.mean(random_array1.flatten())\n",
    "print(random_array1)\n",
    "print(matriz_media)"
   ]
  },
  {
   "cell_type": "code",
   "execution_count": 9,
   "metadata": {},
   "outputs": [
    {
     "name": "stdout",
     "output_type": "stream",
     "text": [
      "4.65\n"
     ]
    }
   ],
   "source": [
    "#Compute the variance of the NumPy array\n",
    "import numpy as np\n",
    "rng = np.random\n",
    "random_array1 = rng.randint(0,10,10)\n",
    "\n",
    "variance = np.var(random_array1)\n",
    "print(random_array1)\n",
    "print(variance)"
   ]
  },
  {
   "cell_type": "code",
   "execution_count": 12,
   "metadata": {},
   "outputs": [
    {
     "name": "stdout",
     "output_type": "stream",
     "text": [
      "[4 0 2 2 6 9 5 1 2 9]\n",
      "3.03315017762062\n"
     ]
    }
   ],
   "source": [
    "#Compute the standard deviation of the NumPy array\n",
    "import numpy as np\n",
    "rng = np.random\n",
    "random_array1 = rng.randint(0,10,10)\n",
    "std_dev = np.std(random_array1)\n",
    "print(random_array1)\n",
    "print(std_dev)"
   ]
  },
  {
   "cell_type": "code",
   "execution_count": 13,
   "metadata": {},
   "outputs": [
    {
     "name": "stdout",
     "output_type": "stream",
     "text": [
      "[4 5 9 3 9 8 0 5 2 3]\n",
      "[8 1 6 4 5 2 7 2 1 1]\n",
      "[[1.         0.01912476]\n",
      " [0.01912476 1.        ]]\n"
     ]
    }
   ],
   "source": [
    "#Compute pearson product-moment correlation coefficients of two given NumPy arrays\n",
    "import numpy as np\n",
    "rng = np.random\n",
    "random_array1 = rng.randint(0,10,10)\n",
    "random_array2 = rng.randint(0,10,10)\n",
    "print(random_array1)\n",
    "print(random_array2)\n",
    "\n",
    "prod_cor = np.corrcoef(random_array1, random_array2)\n",
    "print(prod_cor)"
   ]
  },
  {
   "cell_type": "code",
   "execution_count": 15,
   "metadata": {},
   "outputs": [
    {
     "name": "stdout",
     "output_type": "stream",
     "text": [
      "[[6 6]\n",
      " [4 8]]\n",
      "[6. 6.]\n"
     ]
    }
   ],
   "source": [
    "#Calculate the mean across dimension in a 2D NumPy array\n",
    "import numpy as np\n",
    "rng = np.random\n",
    "random_array1 = rng.randint(0,10,(2,2))\n",
    "media_dim = np.mean(random_array1, 1)\n",
    "print(random_array1)\n",
    "print(media_dim)"
   ]
  },
  {
   "cell_type": "code",
   "execution_count": 16,
   "metadata": {},
   "outputs": [
    {
     "name": "stdout",
     "output_type": "stream",
     "text": [
      "[[3 2]\n",
      " [7 8]]\n",
      "5.0\n",
      "6.5\n",
      "2.5495097567963922\n"
     ]
    }
   ],
   "source": [
    "#Calculate the average, variance and standard deviation in Python using NumPy\n",
    "import numpy as np\n",
    "rng = np.random\n",
    "random_array1 = rng.randint(0,10,(2,2))\n",
    "print(random_array1)\n",
    "\n",
    "average = np.average(random_array1)\n",
    "variance = np.var(random_array1)\n",
    "std_dev = np.std(random_array1)\n",
    "\n",
    "print(average)\n",
    "print(variance)\n",
    "print(std_dev)"
   ]
  },
  {
   "cell_type": "code",
   "execution_count": null,
   "metadata": {},
   "outputs": [],
   "source": [
    "#Describe a NumPy Array in Python\n"
   ]
  }
 ],
 "metadata": {
  "kernelspec": {
   "display_name": "Python 3",
   "language": "python",
   "name": "python3"
  },
  "language_info": {
   "codemirror_mode": {
    "name": "ipython",
    "version": 3
   },
   "file_extension": ".py",
   "mimetype": "text/x-python",
   "name": "python",
   "nbconvert_exporter": "python",
   "pygments_lexer": "ipython3",
   "version": "3.10.7"
  },
  "orig_nbformat": 4
 },
 "nbformat": 4,
 "nbformat_minor": 2
}
