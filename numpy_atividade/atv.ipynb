{
 "cells": [
  {
   "attachments": {},
   "cell_type": "markdown",
   "metadata": {},
   "source": [
    "# Questions on NumPy Mathematics\n",
    "\n",
    "* How to get element-wise true division of an array using Numpy?\n",
    "* How to calculate the element-wise absolute value of NumPy array?\n",
    "* Compute the negative of the NumPy array\n",
    "* Multiply 2d numpy array corresponding to 1d array\n",
    "* Computes the inner product of two arrays\n",
    "* Compute the nth percentile of the NumPy array\n",
    "* Calculate the n-th order discrete difference along the given axis\n",
    "* Calculate the sum of all columns in a 2D NumPy array\n",
    "* Calculate average values of two given NumPy arrays\n",
    "* How to compute numerical negative value for all elements in a given NumPy array?\n",
    "* How to get the floor, ceiling and truncated values of the elements of a numpy array?\n",
    "* How to round elements of the NumPy array to the nearest integer?\n",
    "* Find the round off the values of the given matrix\n",
    "* Determine the positive square-root of an array\n",
    "* Evaluate Einstein’s summation convention of two multidimensional NumPy arrays"
   ]
  },
  {
   "attachments": {},
   "cell_type": "markdown",
   "metadata": {},
   "source": [
    "# Questions on NumPy Sorting and Searching\n",
    "\n",
    "[x] How to get the indices of the sorted array using NumPy in Python?\n",
    "* Finding the k smallest values of a NumPy array\n",
    "* How to get the n-largest values of an array using NumPy?\n",
    "[x] Sort the values in a matrix\n",
    "[x] Filter out integers from float numpy array\n",
    "* Find the indices into a sorted array"
   ]
  },
  {
   "cell_type": "code",
   "execution_count": 68,
   "metadata": {},
   "outputs": [
    {
     "name": "stdout",
     "output_type": "stream",
     "text": [
      "[4 4 4 0 1]\n",
      "[3 4 0 1 2]\n"
     ]
    }
   ],
   "source": [
    "# How to get the indices of the sorted array using NumPy in Python?\n",
    "import numpy as np\n",
    "\n",
    "rng = np.random\n",
    "random_array = rng.randint(0,5,5)\n",
    "sorted_index = np.argsort(random_array)\n",
    "print(random_array)\n",
    "print(sorted_index)"
   ]
  },
  {
   "cell_type": "code",
   "execution_count": 112,
   "metadata": {},
   "outputs": [
    {
     "name": "stdout",
     "output_type": "stream",
     "text": [
      "[1 2 4 3 1]\n",
      "3\n"
     ]
    }
   ],
   "source": [
    "# Finding the k smallest values of a NumPy array\n",
    "\n",
    "import numpy as np\n",
    "\n",
    "rng = np.random\n",
    "random_array = rng.randint(0,5,5)\n",
    "k = 3\n",
    "smallest_values = np.sort(random_array)[k]\n",
    "print(random_array)\n",
    "print(smallest_values)\n",
    "\n"
   ]
  },
  {
   "cell_type": "code",
   "execution_count": null,
   "metadata": {},
   "outputs": [],
   "source": [
    "# How to get the n-largest values of an array using NumPy?"
   ]
  },
  {
   "cell_type": "code",
   "execution_count": 66,
   "metadata": {},
   "outputs": [
    {
     "name": "stdout",
     "output_type": "stream",
     "text": [
      "[[3 4 0]\n",
      " [3 3 3]\n",
      " [3 0 0]]\n"
     ]
    },
    {
     "data": {
      "text/plain": [
       "array([[0, 3, 4],\n",
       "       [3, 3, 3],\n",
       "       [0, 0, 3]])"
      ]
     },
     "execution_count": 66,
     "metadata": {},
     "output_type": "execute_result"
    }
   ],
   "source": [
    "# Sort the values in a matrix\n",
    "\n",
    "\n",
    "import numpy as np\n",
    "\n",
    "rng = np.random\n",
    "random_array = rng.randint(0,5,size=(3,3))\n",
    "print(random_array)\n",
    "\n",
    "np.sort(random_array)"
   ]
  },
  {
   "cell_type": "code",
   "execution_count": 80,
   "metadata": {},
   "outputs": [
    {
     "name": "stdout",
     "output_type": "stream",
     "text": [
      "[ 0.33589674 -1.56514918 -0.48906022  1.23497836  0.09571005]\n",
      "[ 0. -1. -0.  1.  0.]\n"
     ]
    }
   ],
   "source": [
    "#Filter out integers from float numpy array\n",
    "\n",
    "import numpy as np\n",
    "\n",
    "rng = np.random\n",
    "random_array = np.array([ 0.33589674,-1.56514918,-0.48906022,1.23497836, 0.09571005])\n",
    "print(random_array)\n",
    "\n",
    "filtered_array = np.modf(random_array)\n",
    "print(filtered_array[1])\n"
   ]
  },
  {
   "attachments": {},
   "cell_type": "markdown",
   "metadata": {},
   "source": [
    "# Questions on NumPy Random\n",
    "\n",
    "[x] Create a Numpy array with random values\n",
    "[x] How to choose elements from the list with different probability using NumPy?\n",
    "[x] How to get weighted random choice in Python?\n",
    "[x] Generate Random Numbers From The Uniform Distribution using NumPy\n",
    "[x] Get Random Elements form geometric distribution\n",
    "[x] Get Random elements from Laplace distribution\n",
    "[x] Return a Matrix of random values from a uniform distribution\n",
    "[x] Return a Matrix of random values from a Gaussian distribution"
   ]
  },
  {
   "cell_type": "code",
   "execution_count": 31,
   "metadata": {},
   "outputs": [
    {
     "name": "stdout",
     "output_type": "stream",
     "text": [
      "<class 'numpy.ndarray'>\n",
      "[3 1 1 0 2]\n"
     ]
    }
   ],
   "source": [
    "# Create a Numpy array with random values\n",
    "\n",
    "import numpy as np\n",
    "\n",
    "rng = np.random\n",
    "random_array = rng.randint(0,5,5)\n",
    "print(type(random_array))\n",
    "print(random_array)\n"
   ]
  },
  {
   "cell_type": "code",
   "execution_count": 58,
   "metadata": {},
   "outputs": [
    {
     "name": "stdout",
     "output_type": "stream",
     "text": [
      "[3 0 0 4 1]\n",
      "[0.3, 0.2, 0.2, 0.2, 0.1]\n",
      "1\n"
     ]
    }
   ],
   "source": [
    "# How to choose elements from the list with different probability using NumPy?\n",
    "\n",
    "import numpy as np\n",
    "\n",
    "rng = np.random\n",
    "random_array = rng.randint(0,5,5)\n",
    "w = [0.3,0.2,0.2,0.2,0.1]\n",
    "\n",
    "print(random_array)\n",
    "print(w)\n",
    "print(rng.choice(random_array,p=w))\n"
   ]
  },
  {
   "cell_type": "code",
   "execution_count": 52,
   "metadata": {},
   "outputs": [
    {
     "name": "stdout",
     "output_type": "stream",
     "text": [
      "[3 2 0 4 1]\n",
      "[1, 2, 3, 4, 5]\n",
      "[1]\n"
     ]
    }
   ],
   "source": [
    "# How to get weighted random choice in Python?\n",
    "\n",
    "import random \n",
    "import numpy as np\n",
    "\n",
    "rng = np.random\n",
    "random_array = rng.randint(0,5,5)\n",
    "w = [x for x in range(1,6)]\n",
    "\n",
    "print(random_array)\n",
    "print(w)\n",
    "\n",
    "random_choice = random.choices(random_array,w,k=1)\n",
    "print(random_choice)"
   ]
  },
  {
   "cell_type": "code",
   "execution_count": 21,
   "metadata": {},
   "outputs": [
    {
     "name": "stdout",
     "output_type": "stream",
     "text": [
      "0.2525736458609297\n"
     ]
    }
   ],
   "source": [
    "# Generate Random Numbers From The Uniform Distribution using NumPy\n",
    "\n",
    "import numpy as np\n",
    "\n",
    "rng = np.random\n",
    "value_from_uniform = rng.uniform()\n",
    "print(value_from_uniform)"
   ]
  },
  {
   "cell_type": "code",
   "execution_count": 23,
   "metadata": {},
   "outputs": [
    {
     "name": "stdout",
     "output_type": "stream",
     "text": [
      "7\n"
     ]
    }
   ],
   "source": [
    "#Get Random Elements form geometric distribution\n",
    "\n",
    "import numpy as np\n",
    "\n",
    "rng = np.random\n",
    "\n",
    "value_from_geometric = rng.geometric(0.35)\n",
    "print(value_from_geometric)"
   ]
  },
  {
   "cell_type": "code",
   "execution_count": 24,
   "metadata": {},
   "outputs": [
    {
     "name": "stdout",
     "output_type": "stream",
     "text": [
      "1.6625502737058733\n"
     ]
    }
   ],
   "source": [
    "#Get Random elements from Laplace distribution\n",
    "\n",
    "import numpy as np\n",
    "\n",
    "rng = np.random\n",
    "value_from_laplace = rng.laplace()\n",
    "print(value_from_laplace)"
   ]
  },
  {
   "cell_type": "code",
   "execution_count": 19,
   "metadata": {},
   "outputs": [
    {
     "name": "stdout",
     "output_type": "stream",
     "text": [
      "[[1.76193327 1.57506645 1.36090448]\n",
      " [1.9389375  0.73962324 2.18846955]\n",
      " [3.35589716 0.38240967 4.16169106]]\n"
     ]
    }
   ],
   "source": [
    "# Return a Matrix of random values from a uniform distribution\n",
    "\n",
    "import numpy as np\n",
    "\n",
    "rng = np.random\n",
    "random_uniform_array = rng.uniform(0,5,(3,3))\n",
    "print(random_uniform_array)"
   ]
  },
  {
   "attachments": {},
   "cell_type": "markdown",
   "metadata": {},
   "source": [
    "# Questions on NumPy Linear Algebra\n",
    "\n",
    "* Find a matrix or vector norm using NumPy\n",
    "* Calculate the QR decomposition of a given matrix using NumPy\n",
    "* Compute the condition number of a given matrix using NumPy\n",
    "* Compute the eigenvalues and right eigenvectors of a given square array using NumPy?\n",
    "* Calculate the Euclidean distance using NumPy"
   ]
  },
  {
   "cell_type": "code",
   "execution_count": 116,
   "metadata": {},
   "outputs": [
    {
     "name": "stdout",
     "output_type": "stream",
     "text": [
      "[[0 4 0]\n",
      " [0 3 1]\n",
      " [1 1 1]]\n",
      "5.385164807134504\n"
     ]
    }
   ],
   "source": [
    "# Find a matrix or vector norm using NumPy\n",
    "\n",
    "import numpy as np\n",
    "from numpy import linalg as LA\n",
    "\n",
    "rng = np.random\n",
    "random_array = rng.randint(0,5,(3,3))\n",
    "print(random_array)\n",
    "\n",
    "norm = LA.norm(random_array)\n",
    "print(norm)\n",
    "\n",
    "\n"
   ]
  },
  {
   "cell_type": "code",
   "execution_count": 118,
   "metadata": {},
   "outputs": [],
   "source": [
    "# Calculate the QR decomposition of a given matrix using NumPy\n",
    "\n"
   ]
  },
  {
   "cell_type": "code",
   "execution_count": 119,
   "metadata": {},
   "outputs": [
    {
     "name": "stdout",
     "output_type": "stream",
     "text": [
      "[[3 3 3]\n",
      " [3 0 1]\n",
      " [3 4 1]]\n",
      "5.312868341867965\n"
     ]
    }
   ],
   "source": [
    "# Compute the condition number of a given matrix using NumPy\n",
    "\n",
    "import numpy as np\n",
    "from numpy import linalg as LA\n",
    "\n",
    "rng = np.random\n",
    "random_array = rng.randint(0,5,(3,3))\n",
    "print(random_array)\n",
    "\n",
    "cond = LA.cond(random_array)\n",
    "print(cond)"
   ]
  },
  {
   "cell_type": "code",
   "execution_count": 120,
   "metadata": {},
   "outputs": [
    {
     "name": "stdout",
     "output_type": "stream",
     "text": [
      "[[1 2 0]\n",
      " [1 1 3]\n",
      " [1 2 3]]\n",
      "(array([ 5.0806044 ,  0.72918152, -0.80978592]), array([[-0.29980387, -0.94430137,  0.73244635],\n",
      "       [-0.61169049,  0.12786713, -0.66278554],\n",
      "       [-0.73208768,  0.3032242 ,  0.15568453]]))\n"
     ]
    }
   ],
   "source": [
    "# Compute the eigenvalues and right eigenvectors of a given square array using NumPy?\n",
    "import numpy as np\n",
    "from numpy import linalg as LA\n",
    "\n",
    "rng = np.random\n",
    "random_array = rng.randint(0,5,(3,3))\n",
    "print(random_array)\n",
    "eigvalues = LA.eig(random_array)\n",
    "print(eigvalues)"
   ]
  },
  {
   "cell_type": "code",
   "execution_count": 124,
   "metadata": {},
   "outputs": [
    {
     "name": "stdout",
     "output_type": "stream",
     "text": [
      "[3 4 1]\n",
      "[0 4 0]\n",
      "3.1622776601683795\n"
     ]
    }
   ],
   "source": [
    "# Calculate the Euclidean distance using NumPy\n",
    "\n",
    "import numpy as np\n",
    "from numpy import linalg as LA\n",
    "\n",
    "rng = np.random\n",
    "random_array1 = rng.randint(0,5,3)\n",
    "random_array2 = rng.randint(0,5,3)\n",
    "print(random_array1)\n",
    "print(random_array2)\n",
    "\n",
    "euclidean = LA.norm(random_array1-random_array2)\n",
    "print(euclidean)\n"
   ]
  },
  {
   "attachments": {},
   "cell_type": "markdown",
   "metadata": {},
   "source": [
    "# Questions on NumPy Indexing\n",
    "\n",
    "* Replace NumPy array elements that doesn’t satisfy the given condition\n",
    "* Return the indices of elements where the given condition is satisfied\n",
    "* Replace NaN values with average of columns\n",
    "* Replace negative value with zero in numpy array\n",
    "* How to get values of an NumPy array at certain index positions?\n",
    "* Find indices of elements equal to zero in a NumPy array\n",
    "* How to Remove columns in Numpy array that contains non-numeric values?\n",
    "* How to access different rows of a multidimensional NumPy array?\n",
    "* Get row numbers of NumPy array having element larger than X\n",
    "* Get filled the diagonals of NumPy array\n",
    "* Check elements present in the NumPy array\n",
    "* Combined array index by index"
   ]
  }
 ],
 "metadata": {
  "kernelspec": {
   "display_name": "Python 3",
   "language": "python",
   "name": "python3"
  },
  "language_info": {
   "codemirror_mode": {
    "name": "ipython",
    "version": 3
   },
   "file_extension": ".py",
   "mimetype": "text/x-python",
   "name": "python",
   "nbconvert_exporter": "python",
   "pygments_lexer": "ipython3",
   "version": "3.10.7"
  },
  "orig_nbformat": 4
 },
 "nbformat": 4,
 "nbformat_minor": 2
}
