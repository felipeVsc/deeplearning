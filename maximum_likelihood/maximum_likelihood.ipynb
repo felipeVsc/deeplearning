{
 "cells": [
  {
   "attachments": {},
   "cell_type": "markdown",
   "id": "34a33f7f",
   "metadata": {},
   "source": [
    "<html>\n",
    "<body>\n",
    "    <div class=\"image-container\" style=\"display: flex;\">\n",
    "        <img src=\"https://ufal.br/ufal/resolveuid/5ba5577fc45f41f48a6e8e9311488b28\" alt=\"Image 1\" style=\"width: 15%; height: auto;\">\n",
    "        <img src=\"https://ic.ufal.br/site-logo\" alt=\"Image 2\" style=\"width: 15%; height: auto;\">\n",
    "    </div>\n",
    "   <h1 align=\"center\"> Redes Neurais e Aprendizado Profundo - 2023.1 </h1>\n",
    "   <h2 align=\"center\"> Professor: Tiago Figueiredo Vieira </h2>\n",
    "</body>\n",
    "</html>"
   ]
  },
  {
   "attachments": {},
   "cell_type": "markdown",
   "id": "bb6e3b98",
   "metadata": {},
   "source": [
    "---"
   ]
  },
  {
   "attachments": {},
   "cell_type": "markdown",
   "id": "8c3f86b2",
   "metadata": {
    "deletable": false,
    "editable": false,
    "nbgrader": {
     "cell_type": "markdown",
     "checksum": "22736555e9b5ea1020409269a6a1a328",
     "grade": false,
     "grade_id": "cell-a3c2417006fbc676",
     "locked": true,
     "points": 5,
     "schema_version": 3,
     "solution": false,
     "task": true
    }
   },
   "source": [
    "# Estimativa da máxima verossimilhança\n",
    "\n",
    "Implemente o algoritmo da estimativa da máxima verossimilhança para encontrar os parâmetros da distribuição que melhor descreve a função densidade de probabilidade que deu origem aos dados disponíveis na base de dados em anexo ```x_train.npy``` usando o Tensorflow.\n",
    "\n",
    "Utilizar os nomes **mean** e **sigma** para as variáveis de **média** e **desvio padrão** respectivamente.\n",
    "\n",
    "**Gere a resposta final como um array do numpy(np.array()) não como uma lista.**"
   ]
  },
  {
   "cell_type": "code",
   "execution_count": 1,
   "id": "cc51c681",
   "metadata": {},
   "outputs": [
    {
     "data": {
      "image/png": "[encoded data removed]",
      "text/plain": [
       "<Figure size 640x480 with 1 Axes>"
      ]
     },
     "metadata": {},
     "output_type": "display_data"
    }
   ],
   "source": [
    "# Visualizando o histograma para identificar a distribuição\n",
    "\n",
    "import numpy as np\n",
    "import matplotlib.pyplot as plt\n",
    "\n",
    "x_train = np.load('x_train.npy')\n",
    "num_bins = 20\n",
    "plt.hist(x_train, 20)\n",
    "plt.show()"
   ]
  },
  {
   "cell_type": "code",
   "execution_count": 2,
   "id": "50bb03db",
   "metadata": {
    "deletable": false,
    "nbgrader": {
     "cell_type": "code",
     "checksum": "0ad60eb8de52ba44c033b6f9bdbc9cf8",
     "grade": false,
     "grade_id": "cell-bea909348e43a7f4",
     "locked": false,
     "schema_version": 3,
     "solution": true,
     "task": false
    }
   },
   "outputs": [
    {
     "name": "stderr",
     "output_type": "stream",
     "text": [
      "2023-08-02 21:14:11.007818: I tensorflow/tsl/cuda/cudart_stub.cc:28] Could not find cuda drivers on your machine, GPU will not be used.\n",
      "2023-08-02 21:14:11.029883: I tensorflow/tsl/cuda/cudart_stub.cc:28] Could not find cuda drivers on your machine, GPU will not be used.\n",
      "2023-08-02 21:14:11.030380: I tensorflow/core/platform/cpu_feature_guard.cc:182] This TensorFlow binary is optimized to use available CPU instructions in performance-critical operations.\n",
      "To enable the following instructions: AVX2 FMA, in other operations, rebuild TensorFlow with the appropriate compiler flags.\n",
      "2023-08-02 21:14:11.543741: W tensorflow/compiler/tf2tensorrt/utils/py_utils.cc:38] TF-TRT Warning: Could not find TensorRT\n"
     ]
    },
    {
     "name": "stdout",
     "output_type": "stream",
     "text": [
      "[25.745096  8.092818]\n"
     ]
    }
   ],
   "source": [
    "# YOUR CODE HERE\n",
    "import numpy as np\n",
    "import tensorflow as tf\n",
    "\n",
    "x_train = np.load('x_train.npy')\n",
    "\n",
    "mean = tf.Variable(0.0, name='mean')\n",
    "sigma = tf.Variable(1.0, name='sigma')\n",
    "\n",
    "def logmle(x):\n",
    "    return tf.reduce_sum(-0.5*tf.math.log(2*np.pi*tf.square(sigma))- 0.5*tf.square(x-mean)/tf.square(sigma))\n",
    "\n",
    "optimizer = tf.optimizers.Adam(learning_rate=0.1)\n",
    "\n",
    "for x in range(1000):\n",
    "    with tf.GradientTape() as tape:\n",
    "        result = -logmle(x_train)\n",
    "    gradients = tape.gradient(result, [mean, sigma])\n",
    "    optimizer.apply_gradients(zip(gradients, [mean, sigma]))\n",
    "\n",
    "array = np.array([mean.numpy(),sigma.numpy()])\n",
    "print(array)"
   ]
  },
  {
   "cell_type": "code",
   "execution_count": 3,
   "id": "492e3c79",
   "metadata": {
    "deletable": false,
    "editable": false,
    "nbgrader": {
     "cell_type": "code",
     "checksum": "6710bbf701805cfbcf747fbb66ff4aca",
     "grade": true,
     "grade_id": "cell-1a8b5444218a3fb1",
     "locked": true,
     "points": 5,
     "schema_version": 3,
     "solution": false,
     "task": false
    }
   },
   "outputs": [],
   "source": [
    "# Testes ocultos"
   ]
  }
 ],
 "metadata": {
  "kernelspec": {
   "display_name": "Python 3 (ipykernel)",
   "language": "python",
   "name": "python3"
  },
  "language_info": {
   "codemirror_mode": {
    "name": "ipython",
    "version": 3
   },
   "file_extension": ".py",
   "mimetype": "text/x-python",
   "name": "python",
   "nbconvert_exporter": "python",
   "pygments_lexer": "ipython3",
   "version": "3.10.7"
  }
 },
 "nbformat": 4,
 "nbformat_minor": 5
}
