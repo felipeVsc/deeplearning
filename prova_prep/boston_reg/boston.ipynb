{
 "cells": [
  {
   "attachments": {},
   "cell_type": "markdown",
   "metadata": {},
   "source": [
    "### Utilize uma regressão para predizer preços de residências utilizando a base de dados boston_housing, disponivel no Keras."
   ]
  }
 ],
 "metadata": {
  "language_info": {
   "name": "python"
  },
  "orig_nbformat": 4
 },
 "nbformat": 4,
 "nbformat_minor": 2
}
