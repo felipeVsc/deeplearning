{
 "cells": [
  {
   "cell_type": "code",
   "execution_count": null,
   "metadata": {},
   "outputs": [],
   "source": [
    "import numpy as np\n",
    "\n",
    "def relu(x):\n",
    "    return np.maximum(0, x)\n",
    "\n",
    "# Example usage\n",
    "x = np.array([-2, -1, 0, 1, 2])\n",
    "output = relu(x)\n",
    "print(\"ReLU output:\", output)\n",
    "\n",
    "import numpy as np\n",
    "\n",
    "def softmax(x):\n",
    "    exp_x = np.exp(x - np.max(x))  # For numerical stability\n",
    "    return exp_x / np.sum(exp_x, axis=0)\n",
    "\n",
    "# Example usage\n",
    "x = np.array([2.0, 1.0, 0.1])\n",
    "output = softmax(x)\n",
    "print(\"Softmax output:\", output)\n",
    "\n",
    "import numpy as np\n",
    "\n",
    "def sigmoid(x):\n",
    "    return 1 / (1 + np.exp(-x))\n",
    "\n",
    "# Example usage\n",
    "x = np.array([-2, -1, 0, 1, 2])\n",
    "output = sigmoid(x)\n",
    "print(\"Sigmoid output:\", output)\n",
    "\n",
    "import numpy as np\n",
    "\n",
    "def leaky_relu(x, alpha=0.01):\n",
    "    return np.where(x >= 0, x, alpha * x)\n",
    "\n",
    "# Example usage\n",
    "x = np.array([-2, -1, 0, 1, 2])\n",
    "output = leaky_relu(x)\n",
    "print(\"Leaky ReLU output:\", output)\n"
   ]
  }
 ],
 "metadata": {
  "language_info": {
   "name": "python"
  },
  "orig_nbformat": 4
 },
 "nbformat": 4,
 "nbformat_minor": 2
}
